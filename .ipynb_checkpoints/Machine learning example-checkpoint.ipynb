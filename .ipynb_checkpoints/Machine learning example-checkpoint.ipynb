{
 "cells": [
  {
   "cell_type": "markdown",
   "metadata": {},
   "source": [
    "# Machine learning\n",
    "From a [session taught at NICAR 2015](https://github.com/cjdd3b/nicar2015/tree/master/machine-learning):\n",
    "\n",
    ">For this exercise, we'll be training a simple classifier that learns how to categorize bills from the California Legislature based only on their titles. Along the way, we'll focus on three steps critical to any supervised learning application: feature engineering, model building and evaluation.\n",
    "\n",
    "Original data: https://github.com/cjdd3b/nicar2015/blob/master/machine-learning/data/training.txt"
   ]
  },
  {
   "cell_type": "code",
   "execution_count": 1,
   "metadata": {
    "collapsed": false
   },
   "outputs": [],
   "source": [
    "from sklearn import preprocessing\n",
    "from sklearn import cross_validation\n",
    "from sklearn.naive_bayes import MultinomialNB\n",
    "from sklearn.ensemble import RandomForestClassifier\n",
    "from sklearn.feature_extraction.text import CountVectorizer, TfidfVectorizer"
   ]
  },
  {
   "cell_type": "markdown",
   "metadata": {},
   "source": [
    "# STEP 1: DATA IMPORT AND PREPROCESSING"
   ]
  },
  {
   "cell_type": "markdown",
   "metadata": {},
   "source": [
    "Here we're taking in the training data and splitting it into two lists: One with the text of\n",
    "each bill title, and the second with each bill title's corresponding category. Order is important.\n",
    "The first bill in list 1 should also be the first category in list 2."
   ]
  },
  {
   "cell_type": "code",
   "execution_count": 2,
   "metadata": {
    "collapsed": false
   },
   "outputs": [],
   "source": [
    "training = [line.strip().split('|') for line in open('data/training.txt','r').readlines()]"
   ]
  },
  {
   "cell_type": "code",
   "execution_count": 3,
   "metadata": {
    "collapsed": false
   },
   "outputs": [
    {
     "data": {
      "text/plain": [
       "[['An act to amend Section 44277 of the Education Code, relating to teachers.',\n",
       "  'Education'],\n",
       " ['An act to add Section 8314.4 to the Government Code, relating to public funds.',\n",
       "  'Public Services'],\n",
       " ['An act to amend Sections 226, 233, and 234 of, and to add Article 1.5 (commencing with Section 245) to Chapter 1 of Part 1 of Division 2 of, the Labor Code, relating to employment.',\n",
       "  'Labor and Employment'],\n",
       " ['An act to amend Sections 12920, 12921, 12926, 12940, and 12955.2 of the Government Code, relating to employment.',\n",
       "  'Labor and Employment'],\n",
       " ['An act to amend Section 186.8 of, and to add Section 236.4 to, the Penal Code, relating to human trafficking.',\n",
       "  'Crime'],\n",
       " ['An act to amend Section 13823.17 of the Penal Code, relating to domestic violence.',\n",
       "  'Social Issues'],\n",
       " ['An act to add Sections 5017.1, 5017.5, and 5103.5 to the Business and Professions Code, relating to accountants.',\n",
       "  'Business and Consumers'],\n",
       " ['An act to add Section 15817.5 to the Government Code, relating to state buildings.',\n",
       "  'Housing and Property'],\n",
       " ['An act to amend Section 35012 of the Education Code, relating to governing boards.',\n",
       "  'Education'],\n",
       " ['An act to amend Sections 8869.82, 91501, 91502, 91502.1, 91503, 91504, 91527, 91530, 91531, 91533, 91538, 91539, 91541, 91555, 91559, 91571, and 91573 of the Government Code, relating to bonds, and declaring the urgency thereof, to take effect immediately.',\n",
       "  'Commerce']]"
      ]
     },
     "execution_count": 3,
     "metadata": {},
     "output_type": "execute_result"
    }
   ],
   "source": [
    "training[:10]"
   ]
  },
  {
   "cell_type": "code",
   "execution_count": 4,
   "metadata": {
    "collapsed": false
   },
   "outputs": [],
   "source": [
    "text = [t[0] for t in training if len(t) > 1]\n",
    "labels = [t[1] for t in training if len(t) > 1]"
   ]
  },
  {
   "cell_type": "markdown",
   "metadata": {},
   "source": [
    "A little bit of cleanup for scikit-learn's benefit. Scikit-learn models wants our categories to be numbers, not strings. The LabelEncoder performs this transformation."
   ]
  },
  {
   "cell_type": "code",
   "execution_count": 5,
   "metadata": {
    "collapsed": false
   },
   "outputs": [],
   "source": [
    "encoder = preprocessing.LabelEncoder()\n",
    "correct_labels = encoder.fit_transform(labels)"
   ]
  },
  {
   "cell_type": "code",
   "execution_count": 7,
   "metadata": {
    "collapsed": false
   },
   "outputs": [
    {
     "name": "stdout",
     "output_type": "stream",
     "text": [
      "5750\n",
      "[10 31 25 ..., 19 19 27]\n"
     ]
    }
   ],
   "source": [
    "print len(correct_labels)\n",
    "print correct_labels"
   ]
  },
  {
   "cell_type": "markdown",
   "metadata": {},
   "source": [
    "# STEP 2: FEATURE EXTRACTION\n",
    "\n",
    "These two lines use scikit-learn helpers to transform our training data into a document/term matrix."
   ]
  },
  {
   "cell_type": "code",
   "execution_count": 8,
   "metadata": {
    "collapsed": false
   },
   "outputs": [],
   "source": [
    "vectorizer = CountVectorizer()\n",
    "data = vectorizer.fit_transform(text).todense()"
   ]
  },
  {
   "cell_type": "code",
   "execution_count": 9,
   "metadata": {
    "collapsed": false
   },
   "outputs": [
    {
     "name": "stdout",
     "output_type": "stream",
     "text": [
      "[[0 0 0 ..., 0 0 0]\n",
      " [0 0 0 ..., 0 0 0]\n",
      " [0 0 0 ..., 0 0 0]\n",
      " ..., \n",
      " [0 0 0 ..., 0 0 0]\n",
      " [0 0 0 ..., 0 0 0]\n",
      " [0 0 0 ..., 0 0 0]]\n",
      "(5750, 7545)\n"
     ]
    }
   ],
   "source": [
    "print data\n",
    "print data.shape"
   ]
  },
  {
   "cell_type": "markdown",
   "metadata": {},
   "source": [
    "# STEP 3: MODEL BUILDING"
   ]
  },
  {
   "cell_type": "code",
   "execution_count": 10,
   "metadata": {
    "collapsed": false
   },
   "outputs": [],
   "source": [
    "# multinomial naive bayes\n",
    "\n",
    "model = MultinomialNB()\n",
    "fit_model = model.fit(data, correct_labels)"
   ]
  },
  {
   "cell_type": "code",
   "execution_count": 11,
   "metadata": {
    "collapsed": false
   },
   "outputs": [
    {
     "data": {
      "text/plain": [
       "MultinomialNB(alpha=1.0, class_prior=None, fit_prior=True)"
      ]
     },
     "execution_count": 11,
     "metadata": {},
     "output_type": "execute_result"
    }
   ],
   "source": [
    "fit_model"
   ]
  },
  {
   "cell_type": "markdown",
   "metadata": {},
   "source": [
    "# STEP 4: EVALUATION "
   ]
  },
  {
   "cell_type": "code",
   "execution_count": 12,
   "metadata": {
    "collapsed": false
   },
   "outputs": [
    {
     "name": "stdout",
     "output_type": "stream",
     "text": [
      "Accuracy: 0.55 (+/- 0.20)\n"
     ]
    },
    {
     "name": "stderr",
     "output_type": "stream",
     "text": [
      "/usr/local/lib/python2.7/dist-packages/sklearn/cross_validation.py:413: Warning: The least populated class in y has only 1 members, which is too few. The minimum number of labels for any class cannot be less than n_folds=10.\n",
      "  % (min_labels, self.n_folds)), Warning)\n"
     ]
    }
   ],
   "source": [
    "# k-fold cross-validation, with 10 folds\n",
    "\n",
    "scores = cross_validation.cross_val_score(model, data, correct_labels, cv=10)\n",
    "print \"Accuracy: %0.2f (+/- %0.2f)\" % (scores.mean(), scores.std() * 2)"
   ]
  },
  {
   "cell_type": "markdown",
   "metadata": {},
   "source": [
    "# STEP 5: APPLYING THE MODEL"
   ]
  },
  {
   "cell_type": "code",
   "execution_count": 13,
   "metadata": {
    "collapsed": false
   },
   "outputs": [],
   "source": [
    "docs_new = [\"Public postsecondary education: executive officer compensation.\",\n",
    "                \"An act to add Section 236.3 to the Education code, related to the pricing of college textbooks.\",\n",
    "                \"Political Reform Act of 1974: campaign disclosures.\",\n",
    "                \"An act to add Section 236.3 to the Penal Code, relating to human trafficking.\"\n",
    "            ]"
   ]
  },
  {
   "cell_type": "code",
   "execution_count": 14,
   "metadata": {
    "collapsed": false
   },
   "outputs": [],
   "source": [
    "test_data = vectorizer.transform(docs_new)"
   ]
  },
  {
   "cell_type": "code",
   "execution_count": 15,
   "metadata": {
    "collapsed": false
   },
   "outputs": [
    {
     "name": "stdout",
     "output_type": "stream",
     "text": [
      "Public postsecondary education: executive officer compensation. -> ['Education']\n",
      "An act to add Section 236.3 to the Education code, related to the pricing of college textbooks. -> ['Education']\n",
      "Political Reform Act of 1974: campaign disclosures. -> ['Campaign Finance and Election Issues']\n",
      "An act to add Section 236.3 to the Penal Code, relating to human trafficking. -> ['Crime']\n"
     ]
    }
   ],
   "source": [
    "for i in xrange(len(docs_new)):\n",
    "    print '%s -> %s' % (docs_new[i], encoder.classes_[model.predict(test_data.toarray()[i])])"
   ]
  },
  {
   "cell_type": "markdown",
   "metadata": {},
   "source": [
    "# Improvements"
   ]
  },
  {
   "cell_type": "code",
   "execution_count": 16,
   "metadata": {
    "collapsed": false
   },
   "outputs": [
    {
     "name": "stdout",
     "output_type": "stream",
     "text": [
      "Accuracy: 0.61 (+/- 0.13)\n"
     ]
    }
   ],
   "source": [
    "# change how features are interpreted\n",
    "\n",
    "# ignore \"stop words\" that are too common\n",
    "# provide threshold of words that are so infrequent we can ignore them\n",
    "# make all words lowercase\n",
    "\n",
    "vectorizer = CountVectorizer(stop_words='english', min_df=2, lowercase=True, analyzer='word')\n",
    "data = vectorizer.fit_transform(text).todense()\n",
    "model = MultinomialNB()\n",
    "fit_model = model.fit(data, correct_labels)\n",
    "scores = cross_validation.cross_val_score(model, data, correct_labels, cv=10)\n",
    "print \"Accuracy: %0.2f (+/- %0.2f)\" % (scores.mean(), scores.std() * 2)"
   ]
  },
  {
   "cell_type": "code",
   "execution_count": 17,
   "metadata": {
    "collapsed": false
   },
   "outputs": [
    {
     "name": "stdout",
     "output_type": "stream",
     "text": [
      "Accuracy: 0.67 (+/- 0.09)\n"
     ]
    }
   ],
   "source": [
    "# use a different model\n",
    "\n",
    "# Random Forest classifier\n",
    "\n",
    "model = RandomForestClassifier(n_estimators=10, random_state=0)\n",
    "fit_model = model.fit(data, correct_labels)\n",
    "scores = cross_validation.cross_val_score(model, data, correct_labels, cv=10)\n",
    "print \"Accuracy: %0.2f (+/- %0.2f)\" % (scores.mean(), scores.std() * 2)"
   ]
  },
  {
   "cell_type": "code",
   "execution_count": 18,
   "metadata": {
    "collapsed": false
   },
   "outputs": [
    {
     "name": "stdout",
     "output_type": "stream",
     "text": [
      "Public postsecondary education: executive officer compensation. -> ['Education']\n",
      "An act to add Section 236.3 to the Education code, related to the pricing of college textbooks. -> ['Education']\n",
      "Political Reform Act of 1974: campaign disclosures. -> ['Campaign Finance and Election Issues']\n",
      "An act to add Section 236.3 to the Penal Code, relating to human trafficking. -> ['Crime']\n"
     ]
    }
   ],
   "source": [
    "docs_new = [\"Public postsecondary education: executive officer compensation.\",\n",
    "                \"An act to add Section 236.3 to the Education code, related to the pricing of college textbooks.\",\n",
    "                \"Political Reform Act of 1974: campaign disclosures.\",\n",
    "                \"An act to add Section 236.3 to the Penal Code, relating to human trafficking.\"\n",
    "            ]\n",
    "\n",
    "test_data = vectorizer.transform(docs_new)\n",
    "\n",
    "for i in xrange(len(docs_new)):\n",
    "    print '%s -> %s' % (docs_new[i], encoder.classes_[model.predict(test_data.toarray()[i])])"
   ]
  }
 ],
 "metadata": {
  "kernelspec": {
   "display_name": "Python 2",
   "language": "python",
   "name": "python2"
  },
  "language_info": {
   "codemirror_mode": {
    "name": "ipython",
    "version": 2
   },
   "file_extension": ".py",
   "mimetype": "text/x-python",
   "name": "python",
   "nbconvert_exporter": "python",
   "pygments_lexer": "ipython2",
   "version": "2.7.6"
  }
 },
 "nbformat": 4,
 "nbformat_minor": 0
}
