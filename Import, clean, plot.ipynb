{
 "cells": [
  {
   "cell_type": "markdown",
   "metadata": {},
   "source": [
    "## Quick exercise\n",
    "A simple data import and plotting exercise, done to help my mom (an elementary school aide) teach boxplots and histograms."
   ]
  },
  {
   "cell_type": "code",
   "execution_count": 1,
   "metadata": {
    "collapsed": false
   },
   "outputs": [],
   "source": [
    "import pandas as pd"
   ]
  },
  {
   "cell_type": "code",
   "execution_count": 4,
   "metadata": {
    "collapsed": false
   },
   "outputs": [
    {
     "data": {
      "text/html": [
       "<div style=\"max-height:1000px;max-width:1500px;overflow:auto;\">\n",
       "<table border=\"1\" class=\"dataframe\">\n",
       "  <thead>\n",
       "    <tr style=\"text-align: right;\">\n",
       "      <th></th>\n",
       "      <th>0</th>\n",
       "      <th>1</th>\n",
       "      <th>2</th>\n",
       "      <th>3</th>\n",
       "      <th>4</th>\n",
       "      <th>5</th>\n",
       "      <th>6</th>\n",
       "      <th>7</th>\n",
       "      <th>8</th>\n",
       "      <th>9</th>\n",
       "      <th>...</th>\n",
       "      <th>12</th>\n",
       "      <th>13</th>\n",
       "      <th>14</th>\n",
       "      <th>15</th>\n",
       "      <th>16</th>\n",
       "      <th>17</th>\n",
       "      <th>18</th>\n",
       "      <th>19</th>\n",
       "      <th>20</th>\n",
       "      <th>21</th>\n",
       "    </tr>\n",
       "  </thead>\n",
       "  <tbody>\n",
       "    <tr>\n",
       "      <th>0</th>\n",
       "      <td>  Alex Rodriguez</td>\n",
       "      <td> 37</td>\n",
       "      <td>  44</td>\n",
       "      <td> 181</td>\n",
       "      <td>  3</td>\n",
       "      <td> 0</td>\n",
       "      <td> 0</td>\n",
       "      <td>-3</td>\n",
       "      <td>-1</td>\n",
       "      <td> -2</td>\n",
       "      <td>...</td>\n",
       "      <td>  5</td>\n",
       "      <td> 0.5</td>\n",
       "      <td> 0.496</td>\n",
       "      <td> 0.499</td>\n",
       "      <td> 0.8</td>\n",
       "      <td>-0.4</td>\n",
       "      <td>  8</td>\n",
       "      <td> $28,000,000</td>\n",
       "      <td> Free Agency</td>\n",
       "      <td>      5D</td>\n",
       "    </tr>\n",
       "    <tr>\n",
       "      <th>1</th>\n",
       "      <td>    CC Sabathia*</td>\n",
       "      <td> 32</td>\n",
       "      <td>  32</td>\n",
       "      <td>   4</td>\n",
       "      <td> -1</td>\n",
       "      <td> 0</td>\n",
       "      <td> 0</td>\n",
       "      <td> 0</td>\n",
       "      <td> 1</td>\n",
       "      <td>  0</td>\n",
       "      <td>...</td>\n",
       "      <td>  0</td>\n",
       "      <td>-0.0</td>\n",
       "      <td> 0.499</td>\n",
       "      <td> 0.500</td>\n",
       "      <td>-0.0</td>\n",
       "      <td> 0.1</td>\n",
       "      <td>  0</td>\n",
       "      <td> $23,000,000</td>\n",
       "      <td> Free Agency</td>\n",
       "      <td>       1</td>\n",
       "    </tr>\n",
       "    <tr>\n",
       "      <th>2</th>\n",
       "      <td>  Mark Teixeira#</td>\n",
       "      <td> 33</td>\n",
       "      <td>  15</td>\n",
       "      <td>  63</td>\n",
       "      <td> -3</td>\n",
       "      <td> 0</td>\n",
       "      <td> 0</td>\n",
       "      <td> 0</td>\n",
       "      <td>-1</td>\n",
       "      <td> -4</td>\n",
       "      <td>...</td>\n",
       "      <td> -2</td>\n",
       "      <td>-0.2</td>\n",
       "      <td> 0.468</td>\n",
       "      <td> 0.497</td>\n",
       "      <td>-0.2</td>\n",
       "      <td>-0.1</td>\n",
       "      <td> -2</td>\n",
       "      <td> $22,500,000</td>\n",
       "      <td> Free Agency</td>\n",
       "      <td>     3/D</td>\n",
       "    </tr>\n",
       "    <tr>\n",
       "      <th>3</th>\n",
       "      <td>    Vernon Wells</td>\n",
       "      <td> 34</td>\n",
       "      <td> 130</td>\n",
       "      <td> 458</td>\n",
       "      <td>-13</td>\n",
       "      <td> 0</td>\n",
       "      <td> 0</td>\n",
       "      <td> 0</td>\n",
       "      <td>-6</td>\n",
       "      <td>-20</td>\n",
       "      <td>...</td>\n",
       "      <td> -3</td>\n",
       "      <td>-0.4</td>\n",
       "      <td> 0.484</td>\n",
       "      <td> 0.487</td>\n",
       "      <td>-0.5</td>\n",
       "      <td>-0.5</td>\n",
       "      <td> -3</td>\n",
       "      <td> $21,000,000</td>\n",
       "      <td>      Traded</td>\n",
       "      <td> 79D/345</td>\n",
       "    </tr>\n",
       "    <tr>\n",
       "      <th>4</th>\n",
       "      <td> Alfonso Soriano</td>\n",
       "      <td> 37</td>\n",
       "      <td>  58</td>\n",
       "      <td> 243</td>\n",
       "      <td>  7</td>\n",
       "      <td> 0</td>\n",
       "      <td> 0</td>\n",
       "      <td> 1</td>\n",
       "      <td>-3</td>\n",
       "      <td>  5</td>\n",
       "      <td>...</td>\n",
       "      <td> 14</td>\n",
       "      <td> 1.5</td>\n",
       "      <td> 0.509</td>\n",
       "      <td> 0.503</td>\n",
       "      <td> 1.3</td>\n",
       "      <td>-0.1</td>\n",
       "      <td> 13</td>\n",
       "      <td> $18,000,000</td>\n",
       "      <td>      Traded</td>\n",
       "      <td>     7/D</td>\n",
       "    </tr>\n",
       "  </tbody>\n",
       "</table>\n",
       "<p>5 rows × 22 columns</p>\n",
       "</div>"
      ],
      "text/plain": [
       "                0   1    2    3   4   5   6   7   8   9  ...  12   13     14  \\\n",
       "0   Alex Rodriguez  37   44  181   3   0   0  -3  -1  -2 ...   5  0.5  0.496   \n",
       "1     CC Sabathia*  32   32    4  -1   0   0   0   1   0 ...   0 -0.0  0.499   \n",
       "2   Mark Teixeira#  33   15   63  -3   0   0   0  -1  -4 ...  -2 -0.2  0.468   \n",
       "3     Vernon Wells  34  130  458 -13   0   0   0  -6 -20 ...  -3 -0.4  0.484   \n",
       "4  Alfonso Soriano  37   58  243   7   0   0   1  -3   5 ...  14  1.5  0.509   \n",
       "\n",
       "      15   16   17  18           19           20       21  \n",
       "0  0.499  0.8 -0.4   8  $28,000,000  Free Agency       5D  \n",
       "1  0.500 -0.0  0.1   0  $23,000,000  Free Agency        1  \n",
       "2  0.497 -0.2 -0.1  -2  $22,500,000  Free Agency      3/D  \n",
       "3  0.487 -0.5 -0.5  -3  $21,000,000       Traded  79D/345  \n",
       "4  0.503  1.3 -0.1  13  $18,000,000       Traded      7/D  \n",
       "\n",
       "[5 rows x 22 columns]"
      ]
     },
     "execution_count": 4,
     "metadata": {},
     "output_type": "execute_result"
    }
   ],
   "source": [
    "# table from: http://www.baseball-reference.com/teams/NYY/2013.shtml\n",
    "yankees = pd.read_clipboard(header = None)\n",
    "yankees.head()"
   ]
  },
  {
   "cell_type": "code",
   "execution_count": 8,
   "metadata": {
    "collapsed": false
   },
   "outputs": [
    {
     "data": {
      "text/html": [
       "<div style=\"max-height:1000px;max-width:1500px;overflow:auto;\">\n",
       "<table border=\"1\" class=\"dataframe\">\n",
       "  <thead>\n",
       "    <tr style=\"text-align: right;\">\n",
       "      <th></th>\n",
       "      <th>0</th>\n",
       "      <th>19</th>\n",
       "    </tr>\n",
       "  </thead>\n",
       "  <tbody>\n",
       "    <tr>\n",
       "      <th>0</th>\n",
       "      <td>  Alex Rodriguez</td>\n",
       "      <td> $28,000,000</td>\n",
       "    </tr>\n",
       "    <tr>\n",
       "      <th>1</th>\n",
       "      <td>    CC Sabathia*</td>\n",
       "      <td> $23,000,000</td>\n",
       "    </tr>\n",
       "    <tr>\n",
       "      <th>2</th>\n",
       "      <td>  Mark Teixeira#</td>\n",
       "      <td> $22,500,000</td>\n",
       "    </tr>\n",
       "    <tr>\n",
       "      <th>3</th>\n",
       "      <td>    Vernon Wells</td>\n",
       "      <td> $21,000,000</td>\n",
       "    </tr>\n",
       "    <tr>\n",
       "      <th>4</th>\n",
       "      <td> Alfonso Soriano</td>\n",
       "      <td> $18,000,000</td>\n",
       "    </tr>\n",
       "  </tbody>\n",
       "</table>\n",
       "</div>"
      ],
      "text/plain": [
       "                0            19\n",
       "0   Alex Rodriguez  $28,000,000\n",
       "1     CC Sabathia*  $23,000,000\n",
       "2   Mark Teixeira#  $22,500,000\n",
       "3     Vernon Wells  $21,000,000\n",
       "4  Alfonso Soriano  $18,000,000"
      ]
     },
     "execution_count": 8,
     "metadata": {},
     "output_type": "execute_result"
    }
   ],
   "source": [
    "# 0,19 reads as indices but those are the column names\n",
    "nyy = yankees[[0,19]]\n",
    "nyy.head()"
   ]
  },
  {
   "cell_type": "code",
   "execution_count": 9,
   "metadata": {
    "collapsed": false
   },
   "outputs": [
    {
     "data": {
      "text/html": [
       "<div style=\"max-height:1000px;max-width:1500px;overflow:auto;\">\n",
       "<table border=\"1\" class=\"dataframe\">\n",
       "  <thead>\n",
       "    <tr style=\"text-align: right;\">\n",
       "      <th></th>\n",
       "      <th>name</th>\n",
       "      <th>salary</th>\n",
       "    </tr>\n",
       "  </thead>\n",
       "  <tbody>\n",
       "    <tr>\n",
       "      <th>0</th>\n",
       "      <td>  Alex Rodriguez</td>\n",
       "      <td> $28,000,000</td>\n",
       "    </tr>\n",
       "    <tr>\n",
       "      <th>1</th>\n",
       "      <td>    CC Sabathia*</td>\n",
       "      <td> $23,000,000</td>\n",
       "    </tr>\n",
       "    <tr>\n",
       "      <th>2</th>\n",
       "      <td>  Mark Teixeira#</td>\n",
       "      <td> $22,500,000</td>\n",
       "    </tr>\n",
       "    <tr>\n",
       "      <th>3</th>\n",
       "      <td>    Vernon Wells</td>\n",
       "      <td> $21,000,000</td>\n",
       "    </tr>\n",
       "    <tr>\n",
       "      <th>4</th>\n",
       "      <td> Alfonso Soriano</td>\n",
       "      <td> $18,000,000</td>\n",
       "    </tr>\n",
       "  </tbody>\n",
       "</table>\n",
       "</div>"
      ],
      "text/plain": [
       "              name       salary\n",
       "0   Alex Rodriguez  $28,000,000\n",
       "1     CC Sabathia*  $23,000,000\n",
       "2   Mark Teixeira#  $22,500,000\n",
       "3     Vernon Wells  $21,000,000\n",
       "4  Alfonso Soriano  $18,000,000"
      ]
     },
     "execution_count": 9,
     "metadata": {},
     "output_type": "execute_result"
    }
   ],
   "source": [
    "nyy.columns = ['name', 'salary']\n",
    "nyy.head()"
   ]
  },
  {
   "cell_type": "code",
   "execution_count": 12,
   "metadata": {
    "collapsed": false
   },
   "outputs": [
    {
     "name": "stderr",
     "output_type": "stream",
     "text": [
      "-c:1: SettingWithCopyWarning: A value is trying to be set on a copy of a slice from a DataFrame.\n",
      "Try using .loc[row_index,col_indexer] = value instead\n"
     ]
    },
    {
     "data": {
      "text/html": [
       "<div style=\"max-height:1000px;max-width:1500px;overflow:auto;\">\n",
       "<table border=\"1\" class=\"dataframe\">\n",
       "  <thead>\n",
       "    <tr style=\"text-align: right;\">\n",
       "      <th></th>\n",
       "      <th>name</th>\n",
       "      <th>salary</th>\n",
       "    </tr>\n",
       "  </thead>\n",
       "  <tbody>\n",
       "    <tr>\n",
       "      <th>0</th>\n",
       "      <td>  Alex Rodriguez</td>\n",
       "      <td> 28000000</td>\n",
       "    </tr>\n",
       "    <tr>\n",
       "      <th>1</th>\n",
       "      <td>    CC Sabathia*</td>\n",
       "      <td> 23000000</td>\n",
       "    </tr>\n",
       "    <tr>\n",
       "      <th>2</th>\n",
       "      <td>  Mark Teixeira#</td>\n",
       "      <td> 22500000</td>\n",
       "    </tr>\n",
       "    <tr>\n",
       "      <th>3</th>\n",
       "      <td>    Vernon Wells</td>\n",
       "      <td> 21000000</td>\n",
       "    </tr>\n",
       "    <tr>\n",
       "      <th>4</th>\n",
       "      <td> Alfonso Soriano</td>\n",
       "      <td> 18000000</td>\n",
       "    </tr>\n",
       "  </tbody>\n",
       "</table>\n",
       "</div>"
      ],
      "text/plain": [
       "              name    salary\n",
       "0   Alex Rodriguez  28000000\n",
       "1     CC Sabathia*  23000000\n",
       "2   Mark Teixeira#  22500000\n",
       "3     Vernon Wells  21000000\n",
       "4  Alfonso Soriano  18000000"
      ]
     },
     "execution_count": 12,
     "metadata": {},
     "output_type": "execute_result"
    }
   ],
   "source": [
    "nyy['salary'] = nyy.salary.str.replace('$','').str.replace(',','')\n",
    "nyy.head()"
   ]
  },
  {
   "cell_type": "code",
   "execution_count": 15,
   "metadata": {
    "collapsed": false
   },
   "outputs": [
    {
     "data": {
      "text/html": [
       "<div style=\"max-height:1000px;max-width:1500px;overflow:auto;\">\n",
       "<table border=\"1\" class=\"dataframe\">\n",
       "  <thead>\n",
       "    <tr style=\"text-align: right;\">\n",
       "      <th></th>\n",
       "      <th>name</th>\n",
       "      <th>salary</th>\n",
       "    </tr>\n",
       "  </thead>\n",
       "  <tbody>\n",
       "    <tr>\n",
       "      <th>0 </th>\n",
       "      <td>     Alex Rodriguez</td>\n",
       "      <td> 28000000</td>\n",
       "    </tr>\n",
       "    <tr>\n",
       "      <th>1 </th>\n",
       "      <td>       CC Sabathia*</td>\n",
       "      <td> 23000000</td>\n",
       "    </tr>\n",
       "    <tr>\n",
       "      <th>2 </th>\n",
       "      <td>     Mark Teixeira#</td>\n",
       "      <td> 22500000</td>\n",
       "    </tr>\n",
       "    <tr>\n",
       "      <th>3 </th>\n",
       "      <td>       Vernon Wells</td>\n",
       "      <td> 21000000</td>\n",
       "    </tr>\n",
       "    <tr>\n",
       "      <th>4 </th>\n",
       "      <td>    Alfonso Soriano</td>\n",
       "      <td> 18000000</td>\n",
       "    </tr>\n",
       "    <tr>\n",
       "      <th>5 </th>\n",
       "      <td>        Derek Jeter</td>\n",
       "      <td> 17000000</td>\n",
       "    </tr>\n",
       "    <tr>\n",
       "      <th>6 </th>\n",
       "      <td>     Robinson Cano*</td>\n",
       "      <td> 15000000</td>\n",
       "    </tr>\n",
       "    <tr>\n",
       "      <th>7 </th>\n",
       "      <td> Curtis Granderson*</td>\n",
       "      <td> 15000000</td>\n",
       "    </tr>\n",
       "    <tr>\n",
       "      <th>8 </th>\n",
       "      <td>      Hiroki Kuroda</td>\n",
       "      <td> 15000000</td>\n",
       "    </tr>\n",
       "    <tr>\n",
       "      <th>9 </th>\n",
       "      <td>     Andy Pettitte*</td>\n",
       "      <td> 12000000</td>\n",
       "    </tr>\n",
       "    <tr>\n",
       "      <th>10</th>\n",
       "      <td>     Kevin Youkilis</td>\n",
       "      <td> 12000000</td>\n",
       "    </tr>\n",
       "    <tr>\n",
       "      <th>11</th>\n",
       "      <td>     Mariano Rivera</td>\n",
       "      <td> 10000000</td>\n",
       "    </tr>\n",
       "    <tr>\n",
       "      <th>12</th>\n",
       "      <td>        Phil Hughes</td>\n",
       "      <td>  7150000</td>\n",
       "    </tr>\n",
       "    <tr>\n",
       "      <th>13</th>\n",
       "      <td>     Ichiro Suzuki*</td>\n",
       "      <td>  6500000</td>\n",
       "    </tr>\n",
       "    <tr>\n",
       "      <th>14</th>\n",
       "      <td>        Boone Logan</td>\n",
       "      <td>  3150000</td>\n",
       "    </tr>\n",
       "    <tr>\n",
       "      <th>15</th>\n",
       "      <td>    David Robertson</td>\n",
       "      <td>  3100000</td>\n",
       "    </tr>\n",
       "    <tr>\n",
       "      <th>16</th>\n",
       "      <td>     Brett Gardner*</td>\n",
       "      <td>  2850000</td>\n",
       "    </tr>\n",
       "    <tr>\n",
       "      <th>17</th>\n",
       "      <td>     Travis Hafner*</td>\n",
       "      <td>  2000000</td>\n",
       "    </tr>\n",
       "    <tr>\n",
       "      <th>18</th>\n",
       "      <td>   Joba Chamberlain</td>\n",
       "      <td>  1875000</td>\n",
       "    </tr>\n",
       "    <tr>\n",
       "      <th>19</th>\n",
       "      <td>    Brennan Boesch*</td>\n",
       "      <td>  1500000</td>\n",
       "    </tr>\n",
       "    <tr>\n",
       "      <th>20</th>\n",
       "      <td>      Lyle Overbay*</td>\n",
       "      <td>  1250000</td>\n",
       "    </tr>\n",
       "    <tr>\n",
       "      <th>21</th>\n",
       "      <td>      Ben Francisco</td>\n",
       "      <td>  1100000</td>\n",
       "    </tr>\n",
       "    <tr>\n",
       "      <th>22</th>\n",
       "      <td>       Shawn Kelley</td>\n",
       "      <td>   935000</td>\n",
       "    </tr>\n",
       "    <tr>\n",
       "      <th>23</th>\n",
       "      <td>         Jayson Nix</td>\n",
       "      <td>   900000</td>\n",
       "    </tr>\n",
       "    <tr>\n",
       "      <th>24</th>\n",
       "      <td>          Ivan Nova</td>\n",
       "      <td>   575600</td>\n",
       "    </tr>\n",
       "    <tr>\n",
       "      <th>25</th>\n",
       "      <td>      Eduardo Nunez</td>\n",
       "      <td>   533300</td>\n",
       "    </tr>\n",
       "    <tr>\n",
       "      <th>26</th>\n",
       "      <td> Francisco Cervelli</td>\n",
       "      <td>   515350</td>\n",
       "    </tr>\n",
       "    <tr>\n",
       "      <th>27</th>\n",
       "      <td>      Chris Stewart</td>\n",
       "      <td>   515100</td>\n",
       "    </tr>\n",
       "    <tr>\n",
       "      <th>28</th>\n",
       "      <td>       David Phelps</td>\n",
       "      <td>   512425</td>\n",
       "    </tr>\n",
       "    <tr>\n",
       "      <th>29</th>\n",
       "      <td>        Cody Eppley</td>\n",
       "      <td>   510350</td>\n",
       "    </tr>\n",
       "    <tr>\n",
       "      <th>30</th>\n",
       "      <td>        Adam Warren</td>\n",
       "      <td>   490525</td>\n",
       "    </tr>\n",
       "  </tbody>\n",
       "</table>\n",
       "</div>"
      ],
      "text/plain": [
       "                  name    salary\n",
       "0       Alex Rodriguez  28000000\n",
       "1         CC Sabathia*  23000000\n",
       "2       Mark Teixeira#  22500000\n",
       "3         Vernon Wells  21000000\n",
       "4      Alfonso Soriano  18000000\n",
       "5          Derek Jeter  17000000\n",
       "6       Robinson Cano*  15000000\n",
       "7   Curtis Granderson*  15000000\n",
       "8        Hiroki Kuroda  15000000\n",
       "9       Andy Pettitte*  12000000\n",
       "10      Kevin Youkilis  12000000\n",
       "11      Mariano Rivera  10000000\n",
       "12         Phil Hughes   7150000\n",
       "13      Ichiro Suzuki*   6500000\n",
       "14         Boone Logan   3150000\n",
       "15     David Robertson   3100000\n",
       "16      Brett Gardner*   2850000\n",
       "17      Travis Hafner*   2000000\n",
       "18    Joba Chamberlain   1875000\n",
       "19     Brennan Boesch*   1500000\n",
       "20       Lyle Overbay*   1250000\n",
       "21       Ben Francisco   1100000\n",
       "22        Shawn Kelley    935000\n",
       "23          Jayson Nix    900000\n",
       "24           Ivan Nova    575600\n",
       "25       Eduardo Nunez    533300\n",
       "26  Francisco Cervelli    515350\n",
       "27       Chris Stewart    515100\n",
       "28        David Phelps    512425\n",
       "29         Cody Eppley    510350\n",
       "30         Adam Warren    490525"
      ]
     },
     "execution_count": 15,
     "metadata": {},
     "output_type": "execute_result"
    }
   ],
   "source": [
    "# pandas needs to recognize 'salary' as an integer for plotting\n",
    "nyy['salary'] = nyy.salary.astype(int)\n",
    "nyy"
   ]
  },
  {
   "cell_type": "code",
   "execution_count": 16,
   "metadata": {
    "collapsed": false
   },
   "outputs": [
    {
     "name": "stdout",
     "output_type": "stream",
     "text": [
      "<class 'pandas.core.frame.DataFrame'>\n",
      "Int64Index: 31 entries, 0 to 30\n",
      "Data columns (total 2 columns):\n",
      "name      31 non-null object\n",
      "salary    31 non-null int32\n",
      "dtypes: int32(1), object(1)"
     ]
    }
   ],
   "source": [
    "nyy.info()"
   ]
  },
  {
   "cell_type": "code",
   "execution_count": 18,
   "metadata": {
    "collapsed": false
   },
   "outputs": [
    {
     "data": {
      "text/plain": [
       "<matplotlib.axes.AxesSubplot at 0xdcce908>"
      ]
     },
     "execution_count": 18,
     "metadata": {},
     "output_type": "execute_result"
    },
    {
     "data": {
      "image/png": "[encoded data removed]",
      "text/plain": [
       "<matplotlib.figure.Figure at 0xdce13c8>"
      ]
     },
     "metadata": {},
     "output_type": "display_data"
    }
   ],
   "source": [
    "nyy.salary.hist(bins = 20)"
   ]
  },
  {
   "cell_type": "code",
   "execution_count": 19,
   "metadata": {
    "collapsed": false
   },
   "outputs": [
    {
     "data": {
      "text/plain": [
       "3100000.0"
      ]
     },
     "execution_count": 19,
     "metadata": {},
     "output_type": "execute_result"
    }
   ],
   "source": [
    "nyy.salary.median()"
   ]
  },
  {
   "cell_type": "code",
   "execution_count": 20,
   "metadata": {
    "collapsed": false
   },
   "outputs": [
    {
     "data": {
      "text/plain": [
       "7885891.935483871"
      ]
     },
     "execution_count": 20,
     "metadata": {},
     "output_type": "execute_result"
    }
   ],
   "source": [
    "nyy.salary.mean()"
   ]
  },
  {
   "cell_type": "code",
   "execution_count": 23,
   "metadata": {
    "collapsed": false
   },
   "outputs": [
    {
     "name": "stderr",
     "output_type": "stream",
     "text": [
      "C:\\Python27\\lib\\site-packages\\pandas\\tools\\plotting.py:2380: FutureWarning: \n",
      "The default value for 'return_type' will change to 'axes' in a future release.\n",
      " To use the future behavior now, set return_type='axes'.\n",
      " To keep the previous behavior and silence this warning, set return_type='dict'.\n",
      "  warnings.warn(msg, FutureWarning)\n"
     ]
    },
    {
     "data": {
      "text/plain": [
       "{'boxes': [<matplotlib.lines.Line2D at 0xe2b1518>],\n",
       " 'caps': [<matplotlib.lines.Line2D at 0xd9644a8>,\n",
       "  <matplotlib.lines.Line2D at 0xe0f2dd8>],\n",
       " 'fliers': [<matplotlib.lines.Line2D at 0xd9e2048>,\n",
       "  <matplotlib.lines.Line2D at 0xd9e28d0>],\n",
       " 'medians': [<matplotlib.lines.Line2D at 0xe2b1a90>],\n",
       " 'whiskers': [<matplotlib.lines.Line2D at 0xb16fcc0>,\n",
       "  <matplotlib.lines.Line2D at 0xd964208>]}"
      ]
     },
     "execution_count": 23,
     "metadata": {},
     "output_type": "execute_result"
    },
    {
     "data": {
      "image/png": "[encoded data removed]",
      "text/plain": [
       "<matplotlib.figure.Figure at 0xd9ed390>"
      ]
     },
     "metadata": {},
     "output_type": "display_data"
    }
   ],
   "source": [
    "nyy.boxplot(column = 'salary')"
   ]
  },
  {
   "cell_type": "code",
   "execution_count": 24,
   "metadata": {
    "collapsed": false
   },
   "outputs": [
    {
     "data": {
      "text/plain": [
       "count          31.000000\n",
       "mean      7885891.935484\n",
       "std       8456957.882910\n",
       "min        490525.000000\n",
       "25%        917500.000000\n",
       "50%       3100000.000000\n",
       "75%      15000000.000000\n",
       "max      28000000.000000\n",
       "dtype: float64"
      ]
     },
     "execution_count": 24,
     "metadata": {},
     "output_type": "execute_result"
    }
   ],
   "source": [
    "# need only the five-number summary to draw boxplots by hand\n",
    "nyy.salary.describe()"
   ]
  }
 ],
 "metadata": {
  "kernelspec": {
   "display_name": "Python 2",
   "language": "python",
   "name": "python2"
  },
  "language_info": {
   "codemirror_mode": {
    "name": "ipython",
    "version": 2
   },
   "file_extension": ".py",
   "mimetype": "text/x-python",
   "name": "python",
   "nbconvert_exporter": "python",
   "pygments_lexer": "ipython2",
   "version": "2.7.9"
  }
 },
 "nbformat": 4,
 "nbformat_minor": 0
}
