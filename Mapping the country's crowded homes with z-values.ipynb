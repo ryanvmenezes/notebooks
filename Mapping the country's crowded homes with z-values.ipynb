{
 "cells": [
  {
   "cell_type": "markdown",
   "metadata": {},
   "source": [
    "# Finding concentrations of crowded housing\n",
    "\n",
    "[Emily Alpert Reyes](https://twitter.com/latimesemily), previously on the demographics beat at the L.A. Times, came to the Data Desk one day with a hunch. After grabbing a Census table from American Fact-Finder and manipulating some columns in Excel, she noticed that a few places in Los Angeles had high rates of \"crowding\" -- that is, had high concentrations of homes in an area that housed more than one person per room.\n",
    "\n",
    "But just the rate of crowding could be misleading. At the very top of the list were some rural areas that had very few homes, all of which were crowded. How to square that with ZIP codes in Los Angeles County that had thousands of homes, and a 60% rate of crowding?\n",
    "\n",
    "We decided to rank the country by a one-proportion z-value. For every ZIP code, we calculated the following:\n",
    "\n",
    "$$ z = \\frac{ \\hat{ p } - p_0 }{ \\sqrt{ \\frac{ p_0 (1 - p_0) }{ n } } } $$\n",
    "\n",
    "Where $ n $ was the number of homes in the ZIP, $ x $ the number of crowded homes and $ \\hat{p} = \\frac{x}{n} $. \n",
    "\n",
    "$ p_0 $ was the nationwide mean rate of crowding. It was a constant (about 3 percent or .03) in every calculation. \n",
    "\n",
    "The value it spits out is effectively the number of standard deviations away from the mean each ZIP is. I liked this metric because it would take into account not just the percentage of crowded homes ($\\hat{p}$ in the numerator) but also how many homes were in the area ($n$ in the denominator). So if one area had six crowded homes out of 10 and another had 60 out of 100, the second place would have a higher z-value, since as $ n $ gets larger, $\\sqrt{n}$ in the denominator gets smaller and the z-value gets bigger.\n",
    "\n",
    "The story that combined my analysis and Emily's reporting ran as the A1 centerpiece on March 17, 2014: [\"L.A. and Orange counties are an epicenter of overcrowded housing\"](http://www.latimes.com/local/la-me-crowding-20140308-story.html)"
   ]
  },
  {
   "cell_type": "markdown",
   "metadata": {},
   "source": [
    "### Getting the data\n",
    "\n",
    "Below I'll run through how I used R to do the calculations. While Emily actually gave me her Excel sheet to work with, I'll start by pulling the data with the `acs` package in R, which Rob Barry detailed how to use in [this blog post](http://rob-barry.com/2014/08/23/Identifying-the-Divide/)."
   ]
  },
  {
   "cell_type": "code",
   "execution_count": 1,
   "metadata": {
    "collapsed": false
   },
   "outputs": [
    {
     "name": "stderr",
     "output_type": "stream",
     "text": [
      "\n",
      "Attaching package: ‘acs’\n",
      "\n",
      "The following object is masked from ‘package:base’:\n",
      "\n",
      "    apply\n",
      "\n"
     ]
    }
   ],
   "source": [
    "library(acs)"
   ]
  },
  {
   "cell_type": "markdown",
   "metadata": {},
   "source": [
    "The table we need is B25014, Tenure by Occupants per Room. If we had to, we could look for all tables with \"room\" in it like this:"
   ]
  },
  {
   "cell_type": "code",
   "execution_count": 2,
   "metadata": {
    "collapsed": false
   },
   "outputs": [
    {
     "data": {
      "text/html": [
       "<table>\n",
       "<thead><tr><th></th><th scope=col>table.number</th><th scope=col>table.name</th></tr></thead>\n",
       "<tbody>\n",
       "\t<tr><th scope=row>1</th><td>B25014</td><td>Tenure by Occupants per Room</td></tr>\n",
       "\t<tr><th scope=row>14</th><td>B25014A</td><td>OCCUPANTS PER ROOM (WHITE ALONE HOUSEHOLDER)</td></tr>\n",
       "\t<tr><th scope=row>17</th><td>B25014B</td><td>OCCUPANTS PER ROOM (BLACK OR AFRICAN AMERICAN ALONE HOUSEHOLDER)</td></tr>\n",
       "\t<tr><th scope=row>20</th><td>B25014C</td><td>OCCUPANTS PER ROOM (AMERICAN INDIAN AND ALASKA NATIVE ALONE HOUSEHOLDER)</td></tr>\n",
       "\t<tr><th scope=row>23</th><td>B25014D</td><td>OCCUPANTS PER ROOM (ASIAN ALONE HOUSEHOLDER)</td></tr>\n",
       "\t<tr><th scope=row>26</th><td>B25014E</td><td>OCCUPANTS PER ROOM (NATIVE HAWAIIAN AND OTHER PACIFIC ISLANDER ALONE HOUSEHOLDER)</td></tr>\n",
       "</tbody>\n",
       "</table>\n"
      ],
      "text/latex": [
       "\\begin{tabular}{r|ll}\n",
       "  & table.number & table.name\\\\\n",
       "\\hline\n",
       "\t1 & B25014 & Tenure by Occupants per Room\\\\\n",
       "\t14 & B25014A & OCCUPANTS PER ROOM (WHITE ALONE HOUSEHOLDER)\\\\\n",
       "\t17 & B25014B & OCCUPANTS PER ROOM (BLACK OR AFRICAN AMERICAN ALONE HOUSEHOLDER)\\\\\n",
       "\t20 & B25014C & OCCUPANTS PER ROOM (AMERICAN INDIAN AND ALASKA NATIVE ALONE HOUSEHOLDER)\\\\\n",
       "\t23 & B25014D & OCCUPANTS PER ROOM (ASIAN ALONE HOUSEHOLDER)\\\\\n",
       "\t26 & B25014E & OCCUPANTS PER ROOM (NATIVE HAWAIIAN AND OTHER PACIFIC ISLANDER ALONE HOUSEHOLDER)\\\\\n",
       "\\end{tabular}\n"
      ],
      "text/plain": [
       "   table.number\n",
       "1        B25014\n",
       "14      B25014A\n",
       "17      B25014B\n",
       "20      B25014C\n",
       "23      B25014D\n",
       "26      B25014E\n",
       "                                                                          table.name\n",
       "1                                                       Tenure by Occupants per Room\n",
       "14                                      OCCUPANTS PER ROOM (WHITE ALONE HOUSEHOLDER)\n",
       "17                  OCCUPANTS PER ROOM (BLACK OR AFRICAN AMERICAN ALONE HOUSEHOLDER)\n",
       "20          OCCUPANTS PER ROOM (AMERICAN INDIAN AND ALASKA NATIVE ALONE HOUSEHOLDER)\n",
       "23                                      OCCUPANTS PER ROOM (ASIAN ALONE HOUSEHOLDER)\n",
       "26 OCCUPANTS PER ROOM (NATIVE HAWAIIAN AND OTHER PACIFIC ISLANDER ALONE HOUSEHOLDER)"
      ]
     },
     "execution_count": 2,
     "metadata": {},
     "output_type": "execute_result"
    }
   ],
   "source": [
    "head(unique(acs.lookup(endyear = 2012, span = 5, table.name = \"room\", case.sensitive = F)@results[, c(\"table.number\", \"table.name\")]))"
   ]
  },
  {
   "cell_type": "markdown",
   "metadata": {},
   "source": [
    "Note: First-time users of the acs package will need to grab a developers key from the Census website and run this line once."
   ]
  },
  {
   "cell_type": "code",
   "execution_count": 3,
   "metadata": {
    "collapsed": true
   },
   "outputs": [],
   "source": [
    "# api.key.install(key='YOUR_KEY')"
   ]
  },
  {
   "cell_type": "markdown",
   "metadata": {},
   "source": [
    "Next let's grab all of the data in that table."
   ]
  },
  {
   "cell_type": "code",
   "execution_count": 4,
   "metadata": {
    "collapsed": false
   },
   "outputs": [],
   "source": [
    "# geography identifier, set to grab all zip codes\n",
    "zcta_geo <- geo.make(zip.code = '*')\n",
    "\n",
    "# pulling the data set\n",
    "CROWD_DATA <- acs.fetch(endyear = 2012, span = 5, geo = zcta_geo, table.number = 'B25014', col.names = 'pretty')"
   ]
  },
  {
   "cell_type": "markdown",
   "metadata": {},
   "source": [
    "Examining the structure shows this is everything you would get if you downloaded an Excel file from Fact-Finder, it just takes a little work to figure out where the relevant information is."
   ]
  },
  {
   "cell_type": "code",
   "execution_count": 5,
   "metadata": {
    "collapsed": false
   },
   "outputs": [
    {
     "name": "stdout",
     "output_type": "stream",
     "text": [
      "Formal class 'acs' [package \"acs\"] with 9 slots\n",
      "  ..@ endyear       : int 2012\n",
      "  ..@ span          : int 5\n",
      "  ..@ geography     :'data.frame':\t33120 obs. of  2 variables:\n",
      "  .. ..$ NAME                 : chr [1:33120] \"ZCTA5 00601\" \"ZCTA5 00602\" \"ZCTA5 00603\" \"ZCTA5 00606\" ...\n",
      "  .. ..$ zipcodetabulationarea: chr [1:33120] \"00601\" \"00602\" \"00603\" \"00606\" ...\n",
      "  ..@ acs.colnames  : chr [1:13] \"Tenure by Occupants per Room: Total:\" \"Tenure by Occupants per Room: Owner occupied:\" \"Tenure by Occupants per Room: Owner occupied: 0.50 or less occupants per room\" \"Tenure by Occupants per Room: Owner occupied: 0.51 to 1.00 occupants per room\" ...\n",
      "  ..@ modified      : logi FALSE\n",
      "  ..@ acs.units     : Factor w/ 5 levels \"count\",\"dollars\",..: 1 1 1 1 1 1 1 1 1 1 ...\n",
      "  ..@ currency.year : int 2012\n",
      "  ..@ estimate      : num [1:33120, 1:13] 5477 13241 17518 1754 9181 ...\n",
      "  .. ..- attr(*, \"dimnames\")=List of 2\n",
      "  .. .. ..$ : chr [1:33120] \"ZCTA5 00601\" \"ZCTA5 00602\" \"ZCTA5 00603\" \"ZCTA5 00606\" ...\n",
      "  .. .. ..$ : chr [1:13] \"Tenure by Occupants per Room: Total:\" \"Tenure by Occupants per Room: Owner occupied:\" \"Tenure by Occupants per Room: Owner occupied: 0.50 or less occupants per room\" \"Tenure by Occupants per Room: Owner occupied: 0.51 to 1.00 occupants per room\" ...\n",
      "  ..@ standard.error: num [1:33120, 1:13] 124 191.5 268.7 74.2 176.3 ...\n",
      "  .. ..- attr(*, \"dimnames\")=List of 2\n",
      "  .. .. ..$ : chr [1:33120] \"ZCTA5 00601\" \"ZCTA5 00602\" \"ZCTA5 00603\" \"ZCTA5 00606\" ...\n",
      "  .. .. ..$ : chr [1:13] \"Tenure by Occupants per Room: Total:\" \"Tenure by Occupants per Room: Owner occupied:\" \"Tenure by Occupants per Room: Owner occupied: 0.50 or less occupants per room\" \"Tenure by Occupants per Room: Owner occupied: 0.51 to 1.00 occupants per room\" ...\n"
     ]
    }
   ],
   "source": [
    "str(CROWD_DATA)"
   ]
  },
  {
   "cell_type": "markdown",
   "metadata": {},
   "source": [
    "Here are the estimates for each ZIP Code Tabulation Area or ZCTA, the Census Bureau's analog for USPS ZIP codes:"
   ]
  },
  {
   "cell_type": "code",
   "execution_count": 6,
   "metadata": {
    "collapsed": false
   },
   "outputs": [
    {
     "data": {
      "text/html": [
       "<table>\n",
       "<thead><tr><th></th><th scope=col>Tenure by Occupants per Room: Total:</th><th scope=col>Tenure by Occupants per Room: Owner occupied:</th><th scope=col>Tenure by Occupants per Room: Owner occupied: 0.50 or less occupants per room</th><th scope=col>Tenure by Occupants per Room: Owner occupied: 0.51 to 1.00 occupants per room</th><th scope=col>Tenure by Occupants per Room: Owner occupied: 1.01 to 1.50 occupants per room</th><th scope=col>Tenure by Occupants per Room: Owner occupied: 1.51 to 2.00 occupants per room</th><th scope=col>Tenure by Occupants per Room: Owner occupied: 2.01 or more occupants per room</th><th scope=col>Tenure by Occupants per Room: Renter occupied:</th><th scope=col>Tenure by Occupants per Room: Renter occupied: 0.50 or less occupants per room</th><th scope=col>Tenure by Occupants per Room: Renter occupied: 0.51 to 1.00 occupants per room</th><th scope=col>Tenure by Occupants per Room: Renter occupied: 1.01 to 1.50 occupants per room</th><th scope=col>Tenure by Occupants per Room: Renter occupied: 1.51 to 2.00 occupants per room</th><th scope=col>Tenure by Occupants per Room: Renter occupied: 2.01 or more occupants per room</th></tr></thead>\n",
       "<tbody>\n",
       "\t<tr><th scope=row>ZCTA5 00601</th><td>5477</td><td>3525</td><td>1899</td><td>1506</td><td>120</td><td>0</td><td>0</td><td>1952</td><td>1148</td><td>683</td><td>59</td><td>31</td><td>31</td></tr>\n",
       "\t<tr><th scope=row>ZCTA5 00602</th><td>13241</td><td>10372</td><td>6091</td><td>3968</td><td>259</td><td>38</td><td>16</td><td>2869</td><td>1284</td><td>1481</td><td>80</td><td>0</td><td>24</td></tr>\n",
       "\t<tr><th scope=row>ZCTA5 00603</th><td>17518</td><td>11621</td><td>7692</td><td>3678</td><td>226</td><td>16</td><td>9</td><td>5897</td><td>2962</td><td>2642</td><td>199</td><td>65</td><td>29</td></tr>\n",
       "\t<tr><th scope=row>ZCTA5 00606</th><td>1754</td><td>1199</td><td>589</td><td>562</td><td>48</td><td>0</td><td>0</td><td>555</td><td>313</td><td>163</td><td>65</td><td>14</td><td>0</td></tr>\n",
       "\t<tr><th scope=row>ZCTA5 00610</th><td>9181</td><td>7126</td><td>3797</td><td>2901</td><td>368</td><td>60</td><td>0</td><td>2055</td><td>958</td><td>952</td><td>140</td><td>5</td><td>0</td></tr>\n",
       "\t<tr><th scope=row>ZCTA5 00612</th><td>23268</td><td>16677</td><td>10391</td><td>5971</td><td>207</td><td>108</td><td>0</td><td>6591</td><td>3375</td><td>2923</td><td>223</td><td>45</td><td>25</td></tr>\n",
       "</tbody>\n",
       "</table>\n"
      ],
      "text/latex": [
       "\\begin{tabular}{r|lllllllllllll}\n",
       "  & Tenure by Occupants per Room: Total: & Tenure by Occupants per Room: Owner occupied: & Tenure by Occupants per Room: Owner occupied: 0.50 or less occupants per room & Tenure by Occupants per Room: Owner occupied: 0.51 to 1.00 occupants per room & Tenure by Occupants per Room: Owner occupied: 1.01 to 1.50 occupants per room & Tenure by Occupants per Room: Owner occupied: 1.51 to 2.00 occupants per room & Tenure by Occupants per Room: Owner occupied: 2.01 or more occupants per room & Tenure by Occupants per Room: Renter occupied: & Tenure by Occupants per Room: Renter occupied: 0.50 or less occupants per room & Tenure by Occupants per Room: Renter occupied: 0.51 to 1.00 occupants per room & Tenure by Occupants per Room: Renter occupied: 1.01 to 1.50 occupants per room & Tenure by Occupants per Room: Renter occupied: 1.51 to 2.00 occupants per room & Tenure by Occupants per Room: Renter occupied: 2.01 or more occupants per room\\\\\n",
       "\\hline\n",
       "\tZCTA5 00601 & 5477 & 3525 & 1899 & 1506 & 120 & 0 & 0 & 1952 & 1148 & 683 & 59 & 31 & 31\\\\\n",
       "\tZCTA5 00602 & 13241 & 10372 & 6091 & 3968 & 259 & 38 & 16 & 2869 & 1284 & 1481 & 80 & 0 & 24\\\\\n",
       "\tZCTA5 00603 & 17518 & 11621 & 7692 & 3678 & 226 & 16 & 9 & 5897 & 2962 & 2642 & 199 & 65 & 29\\\\\n",
       "\tZCTA5 00606 & 1754 & 1199 & 589 & 562 & 48 & 0 & 0 & 555 & 313 & 163 & 65 & 14 & 0\\\\\n",
       "\tZCTA5 00610 & 9181 & 7126 & 3797 & 2901 & 368 & 60 & 0 & 2055 & 958 & 952 & 140 & 5 & 0\\\\\n",
       "\tZCTA5 00612 & 23268 & 16677 & 10391 & 5971 & 207 & 108 & 0 & 6591 & 3375 & 2923 & 223 & 45 & 25\\\\\n",
       "\\end{tabular}\n"
      ],
      "text/markdown": [
       "1. 5477\n",
       "2. 13241\n",
       "3. 17518\n",
       "4. 1754\n",
       "5. 9181\n",
       "6. 23268\n",
       "7. 3525\n",
       "8. 10372\n",
       "9. 11621\n",
       "10. 1199\n",
       "11. 7126\n",
       "12. 16677\n",
       "13. 1899\n",
       "14. 6091\n",
       "15. 7692\n",
       "16. 589\n",
       "17. 3797\n",
       "18. 10391\n",
       "19. 1506\n",
       "20. 3968\n",
       "21. 3678\n",
       "22. 562\n",
       "23. 2901\n",
       "24. 5971\n",
       "25. 120\n",
       "26. 259\n",
       "27. 226\n",
       "28. 48\n",
       "29. 368\n",
       "30. 207\n",
       "31. 0\n",
       "32. 38\n",
       "33. 16\n",
       "34. 0\n",
       "35. 60\n",
       "36. 108\n",
       "37. 0\n",
       "38. 16\n",
       "39. 9\n",
       "40. 0\n",
       "41. 0\n",
       "42. 0\n",
       "43. 1952\n",
       "44. 2869\n",
       "45. 5897\n",
       "46. 555\n",
       "47. 2055\n",
       "48. 6591\n",
       "49. 1148\n",
       "50. 1284\n",
       "51. 2962\n",
       "52. 313\n",
       "53. 958\n",
       "54. 3375\n",
       "55. 683\n",
       "56. 1481\n",
       "57. 2642\n",
       "58. 163\n",
       "59. 952\n",
       "60. 2923\n",
       "61. 59\n",
       "62. 80\n",
       "63. 199\n",
       "64. 65\n",
       "65. 140\n",
       "66. 223\n",
       "67. 31\n",
       "68. 0\n",
       "69. 65\n",
       "70. 14\n",
       "71. 5\n",
       "72. 45\n",
       "73. 31\n",
       "74. 24\n",
       "75. 29\n",
       "76. 0\n",
       "77. 0\n",
       "78. 25\n",
       "\n",
       "\n"
      ],
      "text/plain": [
       "            Tenure by Occupants per Room: Total:\n",
       "ZCTA5 00601                                 5477\n",
       "ZCTA5 00602                                13241\n",
       "ZCTA5 00603                                17518\n",
       "ZCTA5 00606                                 1754\n",
       "ZCTA5 00610                                 9181\n",
       "ZCTA5 00612                                23268\n",
       "            Tenure by Occupants per Room: Owner occupied:\n",
       "ZCTA5 00601                                          3525\n",
       "ZCTA5 00602                                         10372\n",
       "ZCTA5 00603                                         11621\n",
       "ZCTA5 00606                                          1199\n",
       "ZCTA5 00610                                          7126\n",
       "ZCTA5 00612                                         16677\n",
       "            Tenure by Occupants per Room: Owner occupied: 0.50 or less occupants per room\n",
       "ZCTA5 00601                                                                          1899\n",
       "ZCTA5 00602                                                                          6091\n",
       "ZCTA5 00603                                                                          7692\n",
       "ZCTA5 00606                                                                           589\n",
       "ZCTA5 00610                                                                          3797\n",
       "ZCTA5 00612                                                                         10391\n",
       "            Tenure by Occupants per Room: Owner occupied: 0.51 to 1.00 occupants per room\n",
       "ZCTA5 00601                                                                          1506\n",
       "ZCTA5 00602                                                                          3968\n",
       "ZCTA5 00603                                                                          3678\n",
       "ZCTA5 00606                                                                           562\n",
       "ZCTA5 00610                                                                          2901\n",
       "ZCTA5 00612                                                                          5971\n",
       "            Tenure by Occupants per Room: Owner occupied: 1.01 to 1.50 occupants per room\n",
       "ZCTA5 00601                                                                           120\n",
       "ZCTA5 00602                                                                           259\n",
       "ZCTA5 00603                                                                           226\n",
       "ZCTA5 00606                                                                            48\n",
       "ZCTA5 00610                                                                           368\n",
       "ZCTA5 00612                                                                           207\n",
       "            Tenure by Occupants per Room: Owner occupied: 1.51 to 2.00 occupants per room\n",
       "ZCTA5 00601                                                                             0\n",
       "ZCTA5 00602                                                                            38\n",
       "ZCTA5 00603                                                                            16\n",
       "ZCTA5 00606                                                                             0\n",
       "ZCTA5 00610                                                                            60\n",
       "ZCTA5 00612                                                                           108\n",
       "            Tenure by Occupants per Room: Owner occupied: 2.01 or more occupants per room\n",
       "ZCTA5 00601                                                                             0\n",
       "ZCTA5 00602                                                                            16\n",
       "ZCTA5 00603                                                                             9\n",
       "ZCTA5 00606                                                                             0\n",
       "ZCTA5 00610                                                                             0\n",
       "ZCTA5 00612                                                                             0\n",
       "            Tenure by Occupants per Room: Renter occupied:\n",
       "ZCTA5 00601                                           1952\n",
       "ZCTA5 00602                                           2869\n",
       "ZCTA5 00603                                           5897\n",
       "ZCTA5 00606                                            555\n",
       "ZCTA5 00610                                           2055\n",
       "ZCTA5 00612                                           6591\n",
       "            Tenure by Occupants per Room: Renter occupied: 0.50 or less occupants per room\n",
       "ZCTA5 00601                                                                           1148\n",
       "ZCTA5 00602                                                                           1284\n",
       "ZCTA5 00603                                                                           2962\n",
       "ZCTA5 00606                                                                            313\n",
       "ZCTA5 00610                                                                            958\n",
       "ZCTA5 00612                                                                           3375\n",
       "            Tenure by Occupants per Room: Renter occupied: 0.51 to 1.00 occupants per room\n",
       "ZCTA5 00601                                                                            683\n",
       "ZCTA5 00602                                                                           1481\n",
       "ZCTA5 00603                                                                           2642\n",
       "ZCTA5 00606                                                                            163\n",
       "ZCTA5 00610                                                                            952\n",
       "ZCTA5 00612                                                                           2923\n",
       "            Tenure by Occupants per Room: Renter occupied: 1.01 to 1.50 occupants per room\n",
       "ZCTA5 00601                                                                             59\n",
       "ZCTA5 00602                                                                             80\n",
       "ZCTA5 00603                                                                            199\n",
       "ZCTA5 00606                                                                             65\n",
       "ZCTA5 00610                                                                            140\n",
       "ZCTA5 00612                                                                            223\n",
       "            Tenure by Occupants per Room: Renter occupied: 1.51 to 2.00 occupants per room\n",
       "ZCTA5 00601                                                                             31\n",
       "ZCTA5 00602                                                                              0\n",
       "ZCTA5 00603                                                                             65\n",
       "ZCTA5 00606                                                                             14\n",
       "ZCTA5 00610                                                                              5\n",
       "ZCTA5 00612                                                                             45\n",
       "            Tenure by Occupants per Room: Renter occupied: 2.01 or more occupants per room\n",
       "ZCTA5 00601                                                                             31\n",
       "ZCTA5 00602                                                                             24\n",
       "ZCTA5 00603                                                                             29\n",
       "ZCTA5 00606                                                                              0\n",
       "ZCTA5 00610                                                                              0\n",
       "ZCTA5 00612                                                                             25"
      ]
     },
     "execution_count": 6,
     "metadata": {},
     "output_type": "execute_result"
    }
   ],
   "source": [
    "head(CROWD_DATA@estimate)"
   ]
  },
  {
   "cell_type": "markdown",
   "metadata": {},
   "source": [
    "For the purposes of this calculation, that means we had to write a little code to sum those columns where the occupancy exceeded one person per room (an academic definition for crowding). Then, we could divide by the total column to get our percentages.\n",
    "\n",
    "You can subset on an acs class just like you would subset on a normal data frame. A quick `grep` function call over column names can get us the three columns that will comprise our numerator:"
   ]
  },
  {
   "cell_type": "code",
   "execution_count": 7,
   "metadata": {
    "collapsed": false
   },
   "outputs": [],
   "source": [
    "crowded <- CROWD_DATA[,grep(pattern = '1.01|1.51|2.01', x = CROWD_DATA@acs.colnames)]"
   ]
  },
  {
   "cell_type": "code",
   "execution_count": 8,
   "metadata": {
    "collapsed": false
   },
   "outputs": [],
   "source": [
    "crowded_total <- apply(crowded, 2, sum)"
   ]
  },
  {
   "cell_type": "markdown",
   "metadata": {},
   "source": [
    "The `divide.acs` function let's you calculate a percentage like this:"
   ]
  },
  {
   "cell_type": "code",
   "execution_count": 9,
   "metadata": {
    "collapsed": false
   },
   "outputs": [
    {
     "name": "stderr",
     "output_type": "stream",
     "text": [
      "Warning message:\n",
      "In .acs.divider(num = numerator, den = denominator, proportion = T, : ** due to the nature of some of the errors, using the more conservative formula for RATIOS, which assumes that numerator is not a subset of denominator **"
     ]
    },
    {
     "data": {
      "text/plain": [
       "ACS DATA: \n",
       " 2008 -- 2012 ;\n",
       "  Estimates w/90% confidence intervals;\n",
       "  for different intervals, see confint()\n",
       "            ( aggregate / Tenure by Occupants per Room: Total: )\n",
       "ZCTA5 00601 0.0440021909804638 +/- 0.0167324718434627           \n",
       "ZCTA5 00602 0.0314930896457971 +/- 0.00876405665249096          \n",
       "ZCTA5 00603 0.0310537732617879 +/- 0.0082865249968786           \n",
       "ZCTA5 00606 0.072405929304447 +/- 0.0379552461514904            \n",
       "ZCTA5 00610 0.062411502015031 +/- 0.0171142598109101            \n",
       "ZCTA5 00612 0.0261303077187554 +/- 0.00657596365814987          "
      ]
     },
     "execution_count": 9,
     "metadata": {},
     "output_type": "execute_result"
    }
   ],
   "source": [
    "crowding_pct <- divide.acs(numerator = crowded_total, denominator = CROWD_DATA[,1], method = 'proportion')\n",
    "head(crowding_pct)"
   ]
  },
  {
   "cell_type": "markdown",
   "metadata": {},
   "source": [
    "Let's put together all of our relevant data in a processed data.frame:"
   ]
  },
  {
   "cell_type": "code",
   "execution_count": 10,
   "metadata": {
    "collapsed": false
   },
   "outputs": [
    {
     "data": {
      "text/html": [
       "<table>\n",
       "<thead><tr><th></th><th scope=col>zcta</th><th scope=col>total</th><th scope=col>crowded</th><th scope=col>pct</th></tr></thead>\n",
       "<tbody>\n",
       "\t<tr><th scope=row>1</th><td>ZCTA5 00601</td><td>5477</td><td>241</td><td>0.04400219</td></tr>\n",
       "\t<tr><th scope=row>2</th><td>ZCTA5 00602</td><td>13241</td><td>417</td><td>0.03149309</td></tr>\n",
       "\t<tr><th scope=row>3</th><td>ZCTA5 00603</td><td>17518</td><td>544</td><td>0.03105377</td></tr>\n",
       "\t<tr><th scope=row>4</th><td>ZCTA5 00606</td><td>1754</td><td>127</td><td>0.07240593</td></tr>\n",
       "\t<tr><th scope=row>5</th><td>ZCTA5 00610</td><td>9181</td><td>573</td><td>0.0624115</td></tr>\n",
       "\t<tr><th scope=row>6</th><td>ZCTA5 00612</td><td>23268</td><td>608</td><td>0.02613031</td></tr>\n",
       "</tbody>\n",
       "</table>\n"
      ],
      "text/latex": [
       "\\begin{tabular}{r|llll}\n",
       "  & zcta & total & crowded & pct\\\\\n",
       "\\hline\n",
       "\t1 & ZCTA5 00601 & 5477 & 241 & 0.04400219\\\\\n",
       "\t2 & ZCTA5 00602 & 13241 & 417 & 0.03149309\\\\\n",
       "\t3 & ZCTA5 00603 & 17518 & 544 & 0.03105377\\\\\n",
       "\t4 & ZCTA5 00606 & 1754 & 127 & 0.07240593\\\\\n",
       "\t5 & ZCTA5 00610 & 9181 & 573 & 0.0624115\\\\\n",
       "\t6 & ZCTA5 00612 & 23268 & 608 & 0.02613031\\\\\n",
       "\\end{tabular}\n"
      ],
      "text/plain": [
       "         zcta total crowded        pct\n",
       "1 ZCTA5 00601  5477     241 0.04400219\n",
       "2 ZCTA5 00602 13241     417 0.03149309\n",
       "3 ZCTA5 00603 17518     544 0.03105377\n",
       "4 ZCTA5 00606  1754     127 0.07240593\n",
       "5 ZCTA5 00610  9181     573 0.06241150\n",
       "6 ZCTA5 00612 23268     608 0.02613031"
      ]
     },
     "execution_count": 10,
     "metadata": {},
     "output_type": "execute_result"
    }
   ],
   "source": [
    "crowding_usa <- data.frame(\n",
    "    zcta = geography(crowding_pct)[[1]],\n",
    "    total = as.numeric(estimate(CROWD_DATA[,1])),\n",
    "    crowded = as.numeric(estimate(crowded_total)),\n",
    "    pct = as.numeric(estimate(crowding_pct))\n",
    ")\n",
    "head(crowding_usa)"
   ]
  },
  {
   "cell_type": "markdown",
   "metadata": {},
   "source": [
    "A quick plot illustrates the issue we are dealing with here:"
   ]
  },
  {
   "cell_type": "code",
   "execution_count": 11,
   "metadata": {
    "collapsed": false
   },
   "outputs": [
    {
     "data": {
      "text/html": [
       "<strong>pdf:</strong> 2"
      ],
      "text/latex": [
       "\\textbf{pdf:} 2"
      ],
      "text/markdown": [
       "**pdf:** 2"
      ],
      "text/plain": [
       "pdf \n",
       "  2 "
      ]
     },
     "execution_count": 11,
     "metadata": {},
     "output_type": "execute_result"
    }
   ],
   "source": [
    "png(\"misc-files/crowding-r-plot.png\", width=16, height=8, units=\"in\", res=80)\n",
    "plot(crowding_usa$total, crowding_usa$pct, xlab = 'Number of homes', ylab = \"Percentage of crowded homes\")\n",
    "dev.off()"
   ]
  },
  {
   "cell_type": "markdown",
   "metadata": {},
   "source": [
    "<img src = \"misc-files/crowding-r-plot.png\">"
   ]
  },
  {
   "cell_type": "markdown",
   "metadata": {},
   "source": [
    "There are a number of ZIP codes with greater than 60% crowding, but it's obvious they are very small and don't have many homes. During our first discussion as a team, we thought about not considering ZIP codes below a certain threshold for the number of homes. But whatever cutoff we set would inherently be arbitrary, and we would be eliminating parts of the country where real-life humans live."
   ]
  },
  {
   "cell_type": "markdown",
   "metadata": {},
   "source": [
    "### Calculating the z-value"
   ]
  },
  {
   "cell_type": "markdown",
   "metadata": {},
   "source": [
    "So we can capture all of the country, we turn to the z-value.\n",
    "\n",
    "Here's a glimpse at the data right now, sorted by the percentage of homes that are crowded."
   ]
  },
  {
   "cell_type": "code",
   "execution_count": 12,
   "metadata": {
    "collapsed": false
   },
   "outputs": [
    {
     "data": {
      "text/html": [
       "<table>\n",
       "<thead><tr><th></th><th scope=col>zcta</th><th scope=col>total</th><th scope=col>crowded</th><th scope=col>pct</th></tr></thead>\n",
       "<tbody>\n",
       "\t<tr><th scope=row>11130</th><td>ZCTA5 34268</td><td>48</td><td>48</td><td>1</td></tr>\n",
       "\t<tr><th scope=row>13591</th><td>ZCTA5 42163</td><td>15</td><td>15</td><td>1</td></tr>\n",
       "\t<tr><th scope=row>27584</th><td>ZCTA5 79258</td><td>5</td><td>5</td><td>1</td></tr>\n",
       "\t<tr><th scope=row>28316</th><td>ZCTA5 81655</td><td>13</td><td>13</td><td>1</td></tr>\n",
       "\t<tr><th scope=row>30474</th><td>ZCTA5 92304</td><td>15</td><td>15</td><td>1</td></tr>\n",
       "\t<tr><th scope=row>30708</th><td>ZCTA5 93220</td><td>8</td><td>8</td><td>1</td></tr>\n",
       "\t<tr><th scope=row>31519</th><td>ZCTA5 95680</td><td>22</td><td>22</td><td>1</td></tr>\n",
       "\t<tr><th scope=row>27417</th><td>ZCTA5 78802</td><td>100</td><td>97</td><td>0.97</td></tr>\n",
       "\t<tr><th scope=row>12312</th><td>ZCTA5 38047</td><td>73</td><td>60</td><td>0.8219178</td></tr>\n",
       "\t<tr><th scope=row>29303</th><td>ZCTA5 85654</td><td>62</td><td>50</td><td>0.8064516</td></tr>\n",
       "\t<tr><th scope=row>33036</th><td>ZCTA5 99727</td><td>96</td><td>74</td><td>0.7708333</td></tr>\n",
       "\t<tr><th scope=row>32985</th><td>ZCTA5 99657</td><td>73</td><td>55</td><td>0.7534247</td></tr>\n",
       "\t<tr><th scope=row>31818</th><td>ZCTA5 96759</td><td>151</td><td>108</td><td>0.7152318</td></tr>\n",
       "\t<tr><th scope=row>26444</th><td>ZCTA5 76452</td><td>14</td><td>10</td><td>0.7142857</td></tr>\n",
       "\t<tr><th scope=row>15649</th><td>ZCTA5 47869</td><td>28</td><td>19</td><td>0.6785714</td></tr>\n",
       "\t<tr><th scope=row>33015</th><td>ZCTA5 99690</td><td>61</td><td>41</td><td>0.6721311</td></tr>\n",
       "\t<tr><th scope=row>33005</th><td>ZCTA5 99679</td><td>86</td><td>57</td><td>0.6627907</td></tr>\n",
       "\t<tr><th scope=row>32913</th><td>ZCTA5 99561</td><td>77</td><td>50</td><td>0.6493506</td></tr>\n",
       "\t<tr><th scope=row>32990</th><td>ZCTA5 99662</td><td>102</td><td>66</td><td>0.6470588</td></tr>\n",
       "\t<tr><th scope=row>32914</th><td>ZCTA5 99563</td><td>184</td><td>119</td><td>0.6467391</td></tr>\n",
       "</tbody>\n",
       "</table>\n"
      ],
      "text/latex": [
       "\\begin{tabular}{r|llll}\n",
       "  & zcta & total & crowded & pct\\\\\n",
       "\\hline\n",
       "\t11130 & ZCTA5 34268 & 48 & 48 & 1\\\\\n",
       "\t13591 & ZCTA5 42163 & 15 & 15 & 1\\\\\n",
       "\t27584 & ZCTA5 79258 & 5 & 5 & 1\\\\\n",
       "\t28316 & ZCTA5 81655 & 13 & 13 & 1\\\\\n",
       "\t30474 & ZCTA5 92304 & 15 & 15 & 1\\\\\n",
       "\t30708 & ZCTA5 93220 & 8 & 8 & 1\\\\\n",
       "\t31519 & ZCTA5 95680 & 22 & 22 & 1\\\\\n",
       "\t27417 & ZCTA5 78802 & 100 & 97 & 0.97\\\\\n",
       "\t12312 & ZCTA5 38047 & 73 & 60 & 0.8219178\\\\\n",
       "\t29303 & ZCTA5 85654 & 62 & 50 & 0.8064516\\\\\n",
       "\t33036 & ZCTA5 99727 & 96 & 74 & 0.7708333\\\\\n",
       "\t32985 & ZCTA5 99657 & 73 & 55 & 0.7534247\\\\\n",
       "\t31818 & ZCTA5 96759 & 151 & 108 & 0.7152318\\\\\n",
       "\t26444 & ZCTA5 76452 & 14 & 10 & 0.7142857\\\\\n",
       "\t15649 & ZCTA5 47869 & 28 & 19 & 0.6785714\\\\\n",
       "\t33015 & ZCTA5 99690 & 61 & 41 & 0.6721311\\\\\n",
       "\t33005 & ZCTA5 99679 & 86 & 57 & 0.6627907\\\\\n",
       "\t32913 & ZCTA5 99561 & 77 & 50 & 0.6493506\\\\\n",
       "\t32990 & ZCTA5 99662 & 102 & 66 & 0.6470588\\\\\n",
       "\t32914 & ZCTA5 99563 & 184 & 119 & 0.6467391\\\\\n",
       "\\end{tabular}\n"
      ],
      "text/plain": [
       "             zcta total crowded       pct\n",
       "11130 ZCTA5 34268    48      48 1.0000000\n",
       "13591 ZCTA5 42163    15      15 1.0000000\n",
       "27584 ZCTA5 79258     5       5 1.0000000\n",
       "28316 ZCTA5 81655    13      13 1.0000000\n",
       "30474 ZCTA5 92304    15      15 1.0000000\n",
       "30708 ZCTA5 93220     8       8 1.0000000\n",
       "31519 ZCTA5 95680    22      22 1.0000000\n",
       "27417 ZCTA5 78802   100      97 0.9700000\n",
       "12312 ZCTA5 38047    73      60 0.8219178\n",
       "29303 ZCTA5 85654    62      50 0.8064516\n",
       "33036 ZCTA5 99727    96      74 0.7708333\n",
       "32985 ZCTA5 99657    73      55 0.7534247\n",
       "31818 ZCTA5 96759   151     108 0.7152318\n",
       "26444 ZCTA5 76452    14      10 0.7142857\n",
       "15649 ZCTA5 47869    28      19 0.6785714\n",
       "33015 ZCTA5 99690    61      41 0.6721311\n",
       "33005 ZCTA5 99679    86      57 0.6627907\n",
       "32913 ZCTA5 99561    77      50 0.6493506\n",
       "32990 ZCTA5 99662   102      66 0.6470588\n",
       "32914 ZCTA5 99563   184     119 0.6467391"
      ]
     },
     "execution_count": 12,
     "metadata": {},
     "output_type": "execute_result"
    }
   ],
   "source": [
    "head(crowding_usa[order(crowding_usa$pct, decreasing = TRUE),], n = 20)"
   ]
  },
  {
   "cell_type": "markdown",
   "metadata": {},
   "source": [
    "Before we calculate the z-value, let's first let's figure out the nationwide rate of crowding. Simply, what percentage of homes in the country are crowded?"
   ]
  },
  {
   "cell_type": "code",
   "execution_count": 13,
   "metadata": {
    "collapsed": false
   },
   "outputs": [
    {
     "data": {
      "text/html": [
       "0.032458044557491"
      ],
      "text/latex": [
       "0.032458044557491"
      ],
      "text/markdown": [
       "0.032458044557491"
      ],
      "text/plain": [
       "[1] 0.03245804"
      ]
     },
     "execution_count": 13,
     "metadata": {},
     "output_type": "execute_result"
    }
   ],
   "source": [
    "p_0 <- sum(crowding_usa$crowded) / sum(crowding_usa$total)\n",
    "p_0"
   ]
  },
  {
   "cell_type": "markdown",
   "metadata": {},
   "source": [
    "It's about 3 percent. So we'll set that as a constant in the calculation, $p_0$. If we were conducting a hypothesis test (which we're not), $p_0$ is the value we expect the proportion to be. \n",
    "\n",
    "The z-value will measure the deviation from 3 percent for every ZIP code in the country. Here's how we can write a column of z-values into our data (compare this to the formula spelled out in the intro):"
   ]
  },
  {
   "cell_type": "code",
   "execution_count": 14,
   "metadata": {
    "collapsed": true
   },
   "outputs": [],
   "source": [
    "crowding_usa$zval <- (crowding_usa$pct - p_0) / sqrt(p_0 * (1 - p_0) / crowding_usa$total)"
   ]
  },
  {
   "cell_type": "markdown",
   "metadata": {},
   "source": [
    "Now let's take a look at the ZIP codes ranked by z-values in decreasing order:"
   ]
  },
  {
   "cell_type": "code",
   "execution_count": 15,
   "metadata": {
    "collapsed": true
   },
   "outputs": [],
   "source": [
    "crowding_usa <- crowding_usa[order(crowding_usa$zval, decreasing = TRUE),]"
   ]
  },
  {
   "cell_type": "code",
   "execution_count": 16,
   "metadata": {
    "collapsed": false
   },
   "outputs": [
    {
     "data": {
      "text/html": [
       "<table>\n",
       "<thead><tr><th></th><th scope=col>zcta</th><th scope=col>total</th><th scope=col>crowded</th><th scope=col>pct</th><th scope=col>zval</th></tr></thead>\n",
       "<tbody>\n",
       "\t<tr><th scope=row>30020</th><td>ZCTA5 90011</td><td>21919</td><td>9242</td><td>0.4216433</td><td>325.1402</td></tr>\n",
       "\t<tr><th scope=row>30016</th><td>ZCTA5 90006</td><td>18404</td><td>7847</td><td>0.4263747</td><td>301.5535</td></tr>\n",
       "\t<tr><th scope=row>30097</th><td>ZCTA5 90255</td><td>18161</td><td>7301</td><td>0.4020153</td><td>281.0318</td></tr>\n",
       "\t<tr><th scope=row>30621</th><td>ZCTA5 92701</td><td>12263</td><td>5748</td><td>0.4687271</td><td>272.6193</td></tr>\n",
       "\t<tr><th scope=row>2008</th><td>ZCTA5 07055</td><td>20083</td><td>7411</td><td>0.3690186</td><td>269.142</td></tr>\n",
       "\t<tr><th scope=row>30059</th><td>ZCTA5 90057</td><td>15764</td><td>6297</td><td>0.3994545</td><td>260.0153</td></tr>\n",
       "\t<tr><th scope=row>30079</th><td>ZCTA5 90201</td><td>24399</td><td>7858</td><td>0.3220624</td><td>255.2672</td></tr>\n",
       "\t<tr><th scope=row>30622</th><td>ZCTA5 92703</td><td>12901</td><td>4920</td><td>0.3813658</td><td>223.628</td></tr>\n",
       "\t<tr><th scope=row>30032</th><td>ZCTA5 90023</td><td>10814</td><td>4271</td><td>0.394951</td><td>212.7143</td></tr>\n",
       "\t<tr><th scope=row>30013</th><td>ZCTA5 90003</td><td>16399</td><td>5279</td><td>0.3219099</td><td>209.1649</td></tr>\n",
       "\t<tr><th scope=row>2056</th><td>ZCTA5 07202</td><td>13350</td><td>4541</td><td>0.3401498</td><td>200.6136</td></tr>\n",
       "\t<tr><th scope=row>2878</th><td>ZCTA5 11368</td><td>27854</td><td>6767</td><td>0.2429454</td><td>198.2319</td></tr>\n",
       "\t<tr><th scope=row>30099</th><td>ZCTA5 90262</td><td>15229</td><td>4803</td><td>0.3153851</td><td>197.0217</td></tr>\n",
       "\t<tr><th scope=row>30026</th><td>ZCTA5 90017</td><td>9135</td><td>3603</td><td>0.3944171</td><td>195.217</td></tr>\n",
       "\t<tr><th scope=row>30921</th><td>ZCTA5 93905</td><td>12977</td><td>4309</td><td>0.332049</td><td>192.5838</td></tr>\n",
       "\t<tr><th scope=row>30177</th><td>ZCTA5 90813</td><td>16304</td><td>4882</td><td>0.2994357</td><td>192.365</td></tr>\n",
       "\t<tr><th scope=row>30011</th><td>ZCTA5 90001</td><td>12832</td><td>4272</td><td>0.3329177</td><td>192.0602</td></tr>\n",
       "\t<tr><th scope=row>2844</th><td>ZCTA5 11220</td><td>30235</td><td>6879</td><td>0.2275178</td><td>191.3932</td></tr>\n",
       "\t<tr><th scope=row>30031</th><td>ZCTA5 90022</td><td>17071</td><td>4954</td><td>0.2901998</td><td>190.0282</td></tr>\n",
       "\t<tr><th scope=row>30015</th><td>ZCTA5 90005</td><td>15224</td><td>4629</td><td>0.3040594</td><td>189.1038</td></tr>\n",
       "</tbody>\n",
       "</table>\n"
      ],
      "text/latex": [
       "\\begin{tabular}{r|lllll}\n",
       "  & zcta & total & crowded & pct & zval\\\\\n",
       "\\hline\n",
       "\t30020 & ZCTA5 90011 & 21919 & 9242 & 0.4216433 & 325.1402\\\\\n",
       "\t30016 & ZCTA5 90006 & 18404 & 7847 & 0.4263747 & 301.5535\\\\\n",
       "\t30097 & ZCTA5 90255 & 18161 & 7301 & 0.4020153 & 281.0318\\\\\n",
       "\t30621 & ZCTA5 92701 & 12263 & 5748 & 0.4687271 & 272.6193\\\\\n",
       "\t2008 & ZCTA5 07055 & 20083 & 7411 & 0.3690186 & 269.142\\\\\n",
       "\t30059 & ZCTA5 90057 & 15764 & 6297 & 0.3994545 & 260.0153\\\\\n",
       "\t30079 & ZCTA5 90201 & 24399 & 7858 & 0.3220624 & 255.2672\\\\\n",
       "\t30622 & ZCTA5 92703 & 12901 & 4920 & 0.3813658 & 223.628\\\\\n",
       "\t30032 & ZCTA5 90023 & 10814 & 4271 & 0.394951 & 212.7143\\\\\n",
       "\t30013 & ZCTA5 90003 & 16399 & 5279 & 0.3219099 & 209.1649\\\\\n",
       "\t2056 & ZCTA5 07202 & 13350 & 4541 & 0.3401498 & 200.6136\\\\\n",
       "\t2878 & ZCTA5 11368 & 27854 & 6767 & 0.2429454 & 198.2319\\\\\n",
       "\t30099 & ZCTA5 90262 & 15229 & 4803 & 0.3153851 & 197.0217\\\\\n",
       "\t30026 & ZCTA5 90017 & 9135 & 3603 & 0.3944171 & 195.217\\\\\n",
       "\t30921 & ZCTA5 93905 & 12977 & 4309 & 0.332049 & 192.5838\\\\\n",
       "\t30177 & ZCTA5 90813 & 16304 & 4882 & 0.2994357 & 192.365\\\\\n",
       "\t30011 & ZCTA5 90001 & 12832 & 4272 & 0.3329177 & 192.0602\\\\\n",
       "\t2844 & ZCTA5 11220 & 30235 & 6879 & 0.2275178 & 191.3932\\\\\n",
       "\t30031 & ZCTA5 90022 & 17071 & 4954 & 0.2901998 & 190.0282\\\\\n",
       "\t30015 & ZCTA5 90005 & 15224 & 4629 & 0.3040594 & 189.1038\\\\\n",
       "\\end{tabular}\n"
      ],
      "text/plain": [
       "             zcta total crowded       pct     zval\n",
       "30020 ZCTA5 90011 21919    9242 0.4216433 325.1402\n",
       "30016 ZCTA5 90006 18404    7847 0.4263747 301.5535\n",
       "30097 ZCTA5 90255 18161    7301 0.4020153 281.0318\n",
       "30621 ZCTA5 92701 12263    5748 0.4687271 272.6193\n",
       "2008  ZCTA5 07055 20083    7411 0.3690186 269.1420\n",
       "30059 ZCTA5 90057 15764    6297 0.3994545 260.0153\n",
       "30079 ZCTA5 90201 24399    7858 0.3220624 255.2672\n",
       "30622 ZCTA5 92703 12901    4920 0.3813658 223.6280\n",
       "30032 ZCTA5 90023 10814    4271 0.3949510 212.7143\n",
       "30013 ZCTA5 90003 16399    5279 0.3219099 209.1649\n",
       "2056  ZCTA5 07202 13350    4541 0.3401498 200.6136\n",
       "2878  ZCTA5 11368 27854    6767 0.2429454 198.2319\n",
       "30099 ZCTA5 90262 15229    4803 0.3153851 197.0217\n",
       "30026 ZCTA5 90017  9135    3603 0.3944171 195.2170\n",
       "30921 ZCTA5 93905 12977    4309 0.3320490 192.5838\n",
       "30177 ZCTA5 90813 16304    4882 0.2994357 192.3650\n",
       "30011 ZCTA5 90001 12832    4272 0.3329177 192.0602\n",
       "2844  ZCTA5 11220 30235    6879 0.2275178 191.3932\n",
       "30031 ZCTA5 90022 17071    4954 0.2901998 190.0282\n",
       "30015 ZCTA5 90005 15224    4629 0.3040594 189.1038"
      ]
     },
     "execution_count": 16,
     "metadata": {},
     "output_type": "execute_result"
    }
   ],
   "source": [
    "head(crowding_usa, n = 20)"
   ]
  },
  {
   "cell_type": "markdown",
   "metadata": {},
   "source": [
    "These ZIPs at the top are what we termed our \"most unusual.\" Most of the ones that start with 9 are in Los Angeles or Orange counties. The top two, [90011](http://maps.latimes.com/neighborhoods/neighborhood/historic-south-central/?q=Los+Angeles%2C+CA+90011%2C+USA&lat=34.007889&lng=-118.2585096&g=Geocodify) and [90006](http://maps.latimes.com/neighborhoods/neighborhood/pico-union/?q=Los+Angeles%2C+CA+90006%2C+USA&lat=34.0470832&lng=-118.2965121&g=Geocodify), were the adjacent neighborhoods of Historic South-Central and Pico-Union in Central Los Angeles.\n",
    "\n",
    "The z-value wasn't anything we would run with for publication but the top one basically tells you that 90011 is 325 standard deviations (or standard errors) from the mean of 3 percent. \n",
    "\n",
    "That calculation was all we needed for a final data set we would query from for the story (we did the same process on a data set of all census tracts as well).\n",
    "\n",
    "Emily's lede focused on a home in Historic South-Central, under which some queries from our analysis made for nut grafs:\n",
    "\n",
    "> Cano and her family live in one of the most crowded neighborhoods in the country. Nearly 45% of the homes there are considered \"crowded\" — having more than one person per room, excluding bathrooms, according to an analysis of Census Bureau data spanning 2008 to 2012. Almost one home in six is severely crowded, with more than two people per room.\n",
    "\n",
    "> Southern California is an epicenter for crowded housing: Out of the most heavily crowded 1% of census tracts across the country, more than half are in Los Angeles and Orange counties, a Times statistical analysis found. They are sprinkled throughout areas such as Westlake and Huntington Park around Los Angeles, and Santa Ana and Anaheim in Orange County.\n",
    "\n",
    "> From the outside looking in, it is a largely invisible phenomenon. Places such as Maywood and Huntington Park, south of Los Angeles, look little like the high-rises of Chicago or Boston. Yet behind the closed doors of small bungalows or squat apartment buildings, they are home to thousands more people per square mile than those large cities.\n",
    "\n",
    "From there, we also made a [map that focused on the top 1% of ZIP codes](http://graphics.latimes.com/crowding-map/), along with some small multiples of sorts as a guide:"
   ]
  },
  {
   "cell_type": "markdown",
   "metadata": {},
   "source": [
    "<img src=\"misc-files/crowding-online-map.png\">"
   ]
  },
  {
   "cell_type": "markdown",
   "metadata": {},
   "source": [
    "The [print story](http://www.latimes.com/local/la-me-crowding-20140308-story.html) also ran with a map of Census tracts, with a focus on L.A. and Orange counties:\n",
    "\n",
    "<img src=\"misc-files/crowding-analysis.png\">"
   ]
  },
  {
   "cell_type": "markdown",
   "metadata": {
    "collapsed": true
   },
   "source": [
    "Some additional links related to this analysis:\n",
    "* [A short, published explanation](http://www.latimes.com/local/la-me-crowding-box-20140308-story.html) of how we did the analysis, or what we at the Data Desk sometimes refer to as a \"nerd box.\" This is where I tried to explain all of the above in simple language.\n",
    "* Curbed LA, which tracks all things housing in the area, [linked to our map](http://la.curbed.com/archives/2014/03/historic_southcentral_has_the_most_crowded_housing_in_the_us.php).\n",
    "* Emily wrote about her reporting process on the demographics beat and this story specifically [for Source](https://source.opennews.org/en-US/learning/finding-stories-census-data/)."
   ]
  }
 ],
 "metadata": {
  "kernelspec": {
   "display_name": "R",
   "language": "R",
   "name": "ir"
  },
  "language_info": {
   "codemirror_mode": "r",
   "file_extension": ".r",
   "mimetype": "text/x-r-source",
   "name": "R",
   "pygments_lexer": "r",
   "version": "3.2.2"
  }
 },
 "nbformat": 4,
 "nbformat_minor": 0
}
