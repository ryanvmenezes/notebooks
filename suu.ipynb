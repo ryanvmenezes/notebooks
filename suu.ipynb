{
 "metadata": {
  "name": ""
 },
 "nbformat": 3,
 "nbformat_minor": 0,
 "worksheets": [
  {
   "cells": [
    {
     "cell_type": "code",
     "collapsed": false,
     "input": [
      "import pandas as pd"
     ],
     "language": "python",
     "metadata": {},
     "outputs": [],
     "prompt_number": 1
    },
    {
     "cell_type": "code",
     "collapsed": false,
     "input": [
      "suu = pd.read_clipboard()"
     ],
     "language": "python",
     "metadata": {},
     "outputs": [],
     "prompt_number": 2
    },
    {
     "cell_type": "code",
     "collapsed": false,
     "input": [
      "suu.head()"
     ],
     "language": "python",
     "metadata": {},
     "outputs": [
      {
       "html": [
        "<div style=\"max-height:1000px;max-width:1500px;overflow:auto;\">\n",
        "<table border=\"1\" class=\"dataframe\">\n",
        "  <thead>\n",
        "    <tr style=\"text-align: right;\">\n",
        "      <th></th>\n",
        "      <th>Entry Semester</th>\n",
        "      <th>Last Semester Enrolled</th>\n",
        "      <th>Reason for Not Being Enrolled</th>\n",
        "      <th>Veteran Status</th>\n",
        "      <th>Program Type</th>\n",
        "      <th>entry_code</th>\n",
        "    </tr>\n",
        "  </thead>\n",
        "  <tbody>\n",
        "    <tr>\n",
        "      <th>0</th>\n",
        "      <td> Fall 2013</td>\n",
        "      <td> Currently Enrolled (Spring 2015)</td>\n",
        "      <td> NA - Currently Enrolled </td>\n",
        "      <td> Yes</td>\n",
        "      <td> RTWG - Rotor-Wing Pilot</td>\n",
        "      <td> 1</td>\n",
        "    </tr>\n",
        "    <tr>\n",
        "      <th>1</th>\n",
        "      <td> Fall 2013</td>\n",
        "      <td>                        Fall 2014</td>\n",
        "      <td>          Stopout/Dropout</td>\n",
        "      <td> Yes</td>\n",
        "      <td> RTWG - Rotor-Wing Pilot</td>\n",
        "      <td> 1</td>\n",
        "    </tr>\n",
        "    <tr>\n",
        "      <th>2</th>\n",
        "      <td> Fall 2013</td>\n",
        "      <td> Currently Enrolled (Spring 2015)</td>\n",
        "      <td> NA - Currently Enrolled </td>\n",
        "      <td> Yes</td>\n",
        "      <td> RTWG - Rotor-Wing Pilot</td>\n",
        "      <td> 1</td>\n",
        "    </tr>\n",
        "    <tr>\n",
        "      <th>3</th>\n",
        "      <td> Fall 2013</td>\n",
        "      <td> Currently Enrolled (Spring 2015)</td>\n",
        "      <td> NA - Currently Enrolled </td>\n",
        "      <td>  No</td>\n",
        "      <td>             Not Decided</td>\n",
        "      <td> 1</td>\n",
        "    </tr>\n",
        "    <tr>\n",
        "      <th>4</th>\n",
        "      <td> Fall 2013</td>\n",
        "      <td>                      Summer 2014</td>\n",
        "      <td>          Stopout/Dropout</td>\n",
        "      <td> Yes</td>\n",
        "      <td> RTWG - Rotor-Wing Pilot</td>\n",
        "      <td> 1</td>\n",
        "    </tr>\n",
        "  </tbody>\n",
        "</table>\n",
        "</div>"
       ],
       "metadata": {},
       "output_type": "pyout",
       "prompt_number": 9,
       "text": [
        "  Entry Semester            Last Semester Enrolled  \\\n",
        "0      Fall 2013  Currently Enrolled (Spring 2015)   \n",
        "1      Fall 2013                         Fall 2014   \n",
        "2      Fall 2013  Currently Enrolled (Spring 2015)   \n",
        "3      Fall 2013  Currently Enrolled (Spring 2015)   \n",
        "4      Fall 2013                       Summer 2014   \n",
        "\n",
        "  Reason for Not Being Enrolled Veteran Status             Program Type  \\\n",
        "0      NA - Currently Enrolled             Yes  RTWG - Rotor-Wing Pilot   \n",
        "1               Stopout/Dropout            Yes  RTWG - Rotor-Wing Pilot   \n",
        "2      NA - Currently Enrolled             Yes  RTWG - Rotor-Wing Pilot   \n",
        "3      NA - Currently Enrolled              No              Not Decided   \n",
        "4               Stopout/Dropout            Yes  RTWG - Rotor-Wing Pilot   \n",
        "\n",
        "   entry_code  \n",
        "0           1  \n",
        "1           1  \n",
        "2           1  \n",
        "3           1  \n",
        "4           1  "
       ]
      }
     ],
     "prompt_number": 9
    },
    {
     "cell_type": "code",
     "collapsed": false,
     "input": [
      "suu['Entry Semester'].value_counts()"
     ],
     "language": "python",
     "metadata": {},
     "outputs": [
      {
       "metadata": {},
       "output_type": "pyout",
       "prompt_number": 5,
       "text": [
        "Spring 2015    93\n",
        "Fall 2013      76\n",
        "Fall 2014      51\n",
        "Spring 2014    42\n",
        "Summer 2014    21\n",
        "dtype: int64"
       ]
      }
     ],
     "prompt_number": 5
    },
    {
     "cell_type": "code",
     "collapsed": false,
     "input": [
      "suu['Last Semester Enrolled'].value_counts()"
     ],
     "language": "python",
     "metadata": {},
     "outputs": [
      {
       "metadata": {},
       "output_type": "pyout",
       "prompt_number": 6,
       "text": [
        "Currently Enrolled (Spring 2015)    232\n",
        "Fall 2014                            27\n",
        "Summer 2014                          13\n",
        "Spring 2014                           8\n",
        "Fall 2013                             3\n",
        "dtype: int64"
       ]
      }
     ],
     "prompt_number": 6
    },
    {
     "cell_type": "code",
     "collapsed": false,
     "input": [
      "entry_codes = {'Fall 2013':1,\n",
      "               'Spring 2014':2,\n",
      "               'Summer 2014':3,\n",
      "               'Fall 2014':4,\n",
      "               'Spring 2015':5\n",
      "               }"
     ],
     "language": "python",
     "metadata": {},
     "outputs": [],
     "prompt_number": 7
    },
    {
     "cell_type": "code",
     "collapsed": false,
     "input": [
      "suu['entry_code'] = [entry_codes[e] for e in suu['Entry Semester']]"
     ],
     "language": "python",
     "metadata": {},
     "outputs": [],
     "prompt_number": 8
    },
    {
     "cell_type": "code",
     "collapsed": false,
     "input": [
      "exit_codes = {'Fall 2013':1,\n",
      "              'Spring 2014':2,\n",
      "               'Summer 2014':3,\n",
      "               'Fall 2014':4,\n",
      "               'Currently Enrolled (Spring 2015)':5}"
     ],
     "language": "python",
     "metadata": {},
     "outputs": [],
     "prompt_number": 10
    },
    {
     "cell_type": "code",
     "collapsed": false,
     "input": [],
     "language": "python",
     "metadata": {},
     "outputs": []
    }
   ],
   "metadata": {}
  }
 ]
}
